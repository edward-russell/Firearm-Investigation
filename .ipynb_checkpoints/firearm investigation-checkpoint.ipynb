{
 "cells": [
  {
   "cell_type": "markdown",
   "metadata": {
    "slideshow": {
     "slide_type": "slide"
    }
   },
   "source": [
    "# Project: Investigation of firearm sales in the United States\n",
    "\n",
    "## Table of Contents\n",
    "<ul>\n",
    "<li><a href=\"#intro\">Introduction</a></li>\n",
    "<li><a href=\"#wrangling\">Data Wrangling</a></li>\n",
    "<li><a href=\"#eda\">Exploratory Data Analysis</a></li>\n",
    "<li><a href=\"#conclusions\">Conclusions</a></li>\n",
    "</ul>"
   ]
  },
  {
   "cell_type": "markdown",
   "metadata": {},
   "source": [
    "<a id='intro'></a>\n",
    "## Introduction\n",
    "\n",
    "Using data provided by the **FBI's National Criminal Instant Background Check System** (NICS), and the **US Census** fact sheet I intend to investigate trends in gun sales both at a national level, and at a state level.\n",
    "\n",
    "1. What is the overall trend of gun purchases at a national level over time?\n",
    "2. Which state has the highest firearm sales per capita for the given time period (2016)?"
   ]
  },
  {
   "cell_type": "markdown",
   "metadata": {},
   "source": [
    "<a id='wrangling'></a>\n",
    "## Data Wrangling\n",
    "\n",
    "The first thing we do in any data exploration and analysis is to take a look at the data and see what needs to be done to make it more suitable for answering the questions we've proposed. This may mean getting rid of data that isn't relevant, or isn't complete enough to be useful, or transforming the data we have into datatypes that will be more useful for analysis, or filling in missing values for needed information among other processes.\n",
    "\n",
    "First thing's first though, taking a look at the data itself and seeing what we're working with.\n",
    "\n",
    "### General Properties"
   ]
  },
  {
   "cell_type": "code",
   "execution_count": 1,
   "metadata": {},
   "outputs": [],
   "source": [
    "# initial imports to set up the notebook\n",
    "import numpy as np\n",
    "import pandas as pd\n",
    "import matplotlib.pyplot as plt\n",
    "%matplotlib inline\n",
    "\n",
    "# load the data files\n",
    "gun_data_df = pd.read_excel('data/gun_data.xlsx')\n",
    "us_census_df = pd.read_csv('data/U.S. Census Data.csv')"
   ]
  },
  {
   "cell_type": "code",
   "execution_count": 2,
   "metadata": {
    "scrolled": true
   },
   "outputs": [
    {
     "data": {
      "text/html": [
       "<div>\n",
       "<style scoped>\n",
       "    .dataframe tbody tr th:only-of-type {\n",
       "        vertical-align: middle;\n",
       "    }\n",
       "\n",
       "    .dataframe tbody tr th {\n",
       "        vertical-align: top;\n",
       "    }\n",
       "\n",
       "    .dataframe thead th {\n",
       "        text-align: right;\n",
       "    }\n",
       "</style>\n",
       "<table border=\"1\" class=\"dataframe\">\n",
       "  <thead>\n",
       "    <tr style=\"text-align: right;\">\n",
       "      <th></th>\n",
       "      <th>month</th>\n",
       "      <th>state</th>\n",
       "      <th>permit</th>\n",
       "      <th>permit_recheck</th>\n",
       "      <th>handgun</th>\n",
       "      <th>long_gun</th>\n",
       "      <th>other</th>\n",
       "      <th>multiple</th>\n",
       "      <th>admin</th>\n",
       "      <th>prepawn_handgun</th>\n",
       "      <th>...</th>\n",
       "      <th>returned_other</th>\n",
       "      <th>rentals_handgun</th>\n",
       "      <th>rentals_long_gun</th>\n",
       "      <th>private_sale_handgun</th>\n",
       "      <th>private_sale_long_gun</th>\n",
       "      <th>private_sale_other</th>\n",
       "      <th>return_to_seller_handgun</th>\n",
       "      <th>return_to_seller_long_gun</th>\n",
       "      <th>return_to_seller_other</th>\n",
       "      <th>totals</th>\n",
       "    </tr>\n",
       "  </thead>\n",
       "  <tbody>\n",
       "    <tr>\n",
       "      <th>0</th>\n",
       "      <td>2017-09</td>\n",
       "      <td>Alabama</td>\n",
       "      <td>16717.0</td>\n",
       "      <td>0.0</td>\n",
       "      <td>5734.0</td>\n",
       "      <td>6320.0</td>\n",
       "      <td>221.0</td>\n",
       "      <td>317</td>\n",
       "      <td>0.0</td>\n",
       "      <td>15.0</td>\n",
       "      <td>...</td>\n",
       "      <td>0.0</td>\n",
       "      <td>0.0</td>\n",
       "      <td>0.0</td>\n",
       "      <td>9.0</td>\n",
       "      <td>16.0</td>\n",
       "      <td>3.0</td>\n",
       "      <td>0.0</td>\n",
       "      <td>0.0</td>\n",
       "      <td>3.0</td>\n",
       "      <td>32019</td>\n",
       "    </tr>\n",
       "    <tr>\n",
       "      <th>1</th>\n",
       "      <td>2017-09</td>\n",
       "      <td>Alaska</td>\n",
       "      <td>209.0</td>\n",
       "      <td>2.0</td>\n",
       "      <td>2320.0</td>\n",
       "      <td>2930.0</td>\n",
       "      <td>219.0</td>\n",
       "      <td>160</td>\n",
       "      <td>0.0</td>\n",
       "      <td>5.0</td>\n",
       "      <td>...</td>\n",
       "      <td>0.0</td>\n",
       "      <td>0.0</td>\n",
       "      <td>0.0</td>\n",
       "      <td>17.0</td>\n",
       "      <td>24.0</td>\n",
       "      <td>1.0</td>\n",
       "      <td>0.0</td>\n",
       "      <td>0.0</td>\n",
       "      <td>0.0</td>\n",
       "      <td>6303</td>\n",
       "    </tr>\n",
       "    <tr>\n",
       "      <th>2</th>\n",
       "      <td>2017-09</td>\n",
       "      <td>Arizona</td>\n",
       "      <td>5069.0</td>\n",
       "      <td>382.0</td>\n",
       "      <td>11063.0</td>\n",
       "      <td>7946.0</td>\n",
       "      <td>920.0</td>\n",
       "      <td>631</td>\n",
       "      <td>0.0</td>\n",
       "      <td>13.0</td>\n",
       "      <td>...</td>\n",
       "      <td>0.0</td>\n",
       "      <td>0.0</td>\n",
       "      <td>0.0</td>\n",
       "      <td>38.0</td>\n",
       "      <td>12.0</td>\n",
       "      <td>2.0</td>\n",
       "      <td>0.0</td>\n",
       "      <td>0.0</td>\n",
       "      <td>0.0</td>\n",
       "      <td>28394</td>\n",
       "    </tr>\n",
       "    <tr>\n",
       "      <th>3</th>\n",
       "      <td>2017-09</td>\n",
       "      <td>Arkansas</td>\n",
       "      <td>2935.0</td>\n",
       "      <td>632.0</td>\n",
       "      <td>4347.0</td>\n",
       "      <td>6063.0</td>\n",
       "      <td>165.0</td>\n",
       "      <td>366</td>\n",
       "      <td>51.0</td>\n",
       "      <td>12.0</td>\n",
       "      <td>...</td>\n",
       "      <td>0.0</td>\n",
       "      <td>0.0</td>\n",
       "      <td>0.0</td>\n",
       "      <td>13.0</td>\n",
       "      <td>23.0</td>\n",
       "      <td>0.0</td>\n",
       "      <td>0.0</td>\n",
       "      <td>2.0</td>\n",
       "      <td>1.0</td>\n",
       "      <td>17747</td>\n",
       "    </tr>\n",
       "    <tr>\n",
       "      <th>4</th>\n",
       "      <td>2017-09</td>\n",
       "      <td>California</td>\n",
       "      <td>57839.0</td>\n",
       "      <td>0.0</td>\n",
       "      <td>37165.0</td>\n",
       "      <td>24581.0</td>\n",
       "      <td>2984.0</td>\n",
       "      <td>0</td>\n",
       "      <td>0.0</td>\n",
       "      <td>0.0</td>\n",
       "      <td>...</td>\n",
       "      <td>0.0</td>\n",
       "      <td>0.0</td>\n",
       "      <td>0.0</td>\n",
       "      <td>0.0</td>\n",
       "      <td>0.0</td>\n",
       "      <td>0.0</td>\n",
       "      <td>0.0</td>\n",
       "      <td>0.0</td>\n",
       "      <td>0.0</td>\n",
       "      <td>123506</td>\n",
       "    </tr>\n",
       "  </tbody>\n",
       "</table>\n",
       "<p>5 rows × 27 columns</p>\n",
       "</div>"
      ],
      "text/plain": [
       "     month       state   permit  permit_recheck  handgun  long_gun   other  \\\n",
       "0  2017-09     Alabama  16717.0             0.0   5734.0    6320.0   221.0   \n",
       "1  2017-09      Alaska    209.0             2.0   2320.0    2930.0   219.0   \n",
       "2  2017-09     Arizona   5069.0           382.0  11063.0    7946.0   920.0   \n",
       "3  2017-09    Arkansas   2935.0           632.0   4347.0    6063.0   165.0   \n",
       "4  2017-09  California  57839.0             0.0  37165.0   24581.0  2984.0   \n",
       "\n",
       "   multiple  admin  prepawn_handgun   ...    returned_other  rentals_handgun  \\\n",
       "0       317    0.0             15.0   ...               0.0              0.0   \n",
       "1       160    0.0              5.0   ...               0.0              0.0   \n",
       "2       631    0.0             13.0   ...               0.0              0.0   \n",
       "3       366   51.0             12.0   ...               0.0              0.0   \n",
       "4         0    0.0              0.0   ...               0.0              0.0   \n",
       "\n",
       "   rentals_long_gun  private_sale_handgun  private_sale_long_gun  \\\n",
       "0               0.0                   9.0                   16.0   \n",
       "1               0.0                  17.0                   24.0   \n",
       "2               0.0                  38.0                   12.0   \n",
       "3               0.0                  13.0                   23.0   \n",
       "4               0.0                   0.0                    0.0   \n",
       "\n",
       "   private_sale_other  return_to_seller_handgun  return_to_seller_long_gun  \\\n",
       "0                 3.0                       0.0                        0.0   \n",
       "1                 1.0                       0.0                        0.0   \n",
       "2                 2.0                       0.0                        0.0   \n",
       "3                 0.0                       0.0                        2.0   \n",
       "4                 0.0                       0.0                        0.0   \n",
       "\n",
       "   return_to_seller_other  totals  \n",
       "0                     3.0   32019  \n",
       "1                     0.0    6303  \n",
       "2                     0.0   28394  \n",
       "3                     1.0   17747  \n",
       "4                     0.0  123506  \n",
       "\n",
       "[5 rows x 27 columns]"
      ]
     },
     "execution_count": 2,
     "metadata": {},
     "output_type": "execute_result"
    }
   ],
   "source": [
    "# Print the first five rows to get an overview of what the data looks like\n",
    "gun_data_df.head()"
   ]
  },
  {
   "cell_type": "code",
   "execution_count": 3,
   "metadata": {
    "scrolled": true
   },
   "outputs": [
    {
     "data": {
      "text/html": [
       "<div>\n",
       "<style scoped>\n",
       "    .dataframe tbody tr th:only-of-type {\n",
       "        vertical-align: middle;\n",
       "    }\n",
       "\n",
       "    .dataframe tbody tr th {\n",
       "        vertical-align: top;\n",
       "    }\n",
       "\n",
       "    .dataframe thead th {\n",
       "        text-align: right;\n",
       "    }\n",
       "</style>\n",
       "<table border=\"1\" class=\"dataframe\">\n",
       "  <thead>\n",
       "    <tr style=\"text-align: right;\">\n",
       "      <th></th>\n",
       "      <th>month</th>\n",
       "      <th>state</th>\n",
       "      <th>permit</th>\n",
       "      <th>permit_recheck</th>\n",
       "      <th>handgun</th>\n",
       "      <th>long_gun</th>\n",
       "      <th>other</th>\n",
       "      <th>multiple</th>\n",
       "      <th>admin</th>\n",
       "      <th>prepawn_handgun</th>\n",
       "      <th>...</th>\n",
       "      <th>returned_other</th>\n",
       "      <th>rentals_handgun</th>\n",
       "      <th>rentals_long_gun</th>\n",
       "      <th>private_sale_handgun</th>\n",
       "      <th>private_sale_long_gun</th>\n",
       "      <th>private_sale_other</th>\n",
       "      <th>return_to_seller_handgun</th>\n",
       "      <th>return_to_seller_long_gun</th>\n",
       "      <th>return_to_seller_other</th>\n",
       "      <th>totals</th>\n",
       "    </tr>\n",
       "  </thead>\n",
       "  <tbody>\n",
       "    <tr>\n",
       "      <th>12480</th>\n",
       "      <td>1998-11</td>\n",
       "      <td>Virginia</td>\n",
       "      <td>0.0</td>\n",
       "      <td>NaN</td>\n",
       "      <td>14.0</td>\n",
       "      <td>2.0</td>\n",
       "      <td>NaN</td>\n",
       "      <td>8</td>\n",
       "      <td>0.0</td>\n",
       "      <td>NaN</td>\n",
       "      <td>...</td>\n",
       "      <td>NaN</td>\n",
       "      <td>NaN</td>\n",
       "      <td>NaN</td>\n",
       "      <td>NaN</td>\n",
       "      <td>NaN</td>\n",
       "      <td>NaN</td>\n",
       "      <td>NaN</td>\n",
       "      <td>NaN</td>\n",
       "      <td>NaN</td>\n",
       "      <td>24</td>\n",
       "    </tr>\n",
       "    <tr>\n",
       "      <th>12481</th>\n",
       "      <td>1998-11</td>\n",
       "      <td>Washington</td>\n",
       "      <td>1.0</td>\n",
       "      <td>NaN</td>\n",
       "      <td>65.0</td>\n",
       "      <td>286.0</td>\n",
       "      <td>NaN</td>\n",
       "      <td>8</td>\n",
       "      <td>1.0</td>\n",
       "      <td>NaN</td>\n",
       "      <td>...</td>\n",
       "      <td>NaN</td>\n",
       "      <td>NaN</td>\n",
       "      <td>NaN</td>\n",
       "      <td>NaN</td>\n",
       "      <td>NaN</td>\n",
       "      <td>NaN</td>\n",
       "      <td>NaN</td>\n",
       "      <td>NaN</td>\n",
       "      <td>NaN</td>\n",
       "      <td>361</td>\n",
       "    </tr>\n",
       "    <tr>\n",
       "      <th>12482</th>\n",
       "      <td>1998-11</td>\n",
       "      <td>West Virginia</td>\n",
       "      <td>3.0</td>\n",
       "      <td>NaN</td>\n",
       "      <td>149.0</td>\n",
       "      <td>251.0</td>\n",
       "      <td>NaN</td>\n",
       "      <td>5</td>\n",
       "      <td>0.0</td>\n",
       "      <td>NaN</td>\n",
       "      <td>...</td>\n",
       "      <td>NaN</td>\n",
       "      <td>NaN</td>\n",
       "      <td>NaN</td>\n",
       "      <td>NaN</td>\n",
       "      <td>NaN</td>\n",
       "      <td>NaN</td>\n",
       "      <td>NaN</td>\n",
       "      <td>NaN</td>\n",
       "      <td>NaN</td>\n",
       "      <td>408</td>\n",
       "    </tr>\n",
       "    <tr>\n",
       "      <th>12483</th>\n",
       "      <td>1998-11</td>\n",
       "      <td>Wisconsin</td>\n",
       "      <td>0.0</td>\n",
       "      <td>NaN</td>\n",
       "      <td>25.0</td>\n",
       "      <td>214.0</td>\n",
       "      <td>NaN</td>\n",
       "      <td>2</td>\n",
       "      <td>0.0</td>\n",
       "      <td>NaN</td>\n",
       "      <td>...</td>\n",
       "      <td>NaN</td>\n",
       "      <td>NaN</td>\n",
       "      <td>NaN</td>\n",
       "      <td>NaN</td>\n",
       "      <td>NaN</td>\n",
       "      <td>NaN</td>\n",
       "      <td>NaN</td>\n",
       "      <td>NaN</td>\n",
       "      <td>NaN</td>\n",
       "      <td>241</td>\n",
       "    </tr>\n",
       "    <tr>\n",
       "      <th>12484</th>\n",
       "      <td>1998-11</td>\n",
       "      <td>Wyoming</td>\n",
       "      <td>8.0</td>\n",
       "      <td>NaN</td>\n",
       "      <td>45.0</td>\n",
       "      <td>49.0</td>\n",
       "      <td>NaN</td>\n",
       "      <td>5</td>\n",
       "      <td>0.0</td>\n",
       "      <td>NaN</td>\n",
       "      <td>...</td>\n",
       "      <td>NaN</td>\n",
       "      <td>NaN</td>\n",
       "      <td>NaN</td>\n",
       "      <td>NaN</td>\n",
       "      <td>NaN</td>\n",
       "      <td>NaN</td>\n",
       "      <td>NaN</td>\n",
       "      <td>NaN</td>\n",
       "      <td>NaN</td>\n",
       "      <td>107</td>\n",
       "    </tr>\n",
       "  </tbody>\n",
       "</table>\n",
       "<p>5 rows × 27 columns</p>\n",
       "</div>"
      ],
      "text/plain": [
       "         month          state  permit  permit_recheck  handgun  long_gun  \\\n",
       "12480  1998-11       Virginia     0.0             NaN     14.0       2.0   \n",
       "12481  1998-11     Washington     1.0             NaN     65.0     286.0   \n",
       "12482  1998-11  West Virginia     3.0             NaN    149.0     251.0   \n",
       "12483  1998-11      Wisconsin     0.0             NaN     25.0     214.0   \n",
       "12484  1998-11        Wyoming     8.0             NaN     45.0      49.0   \n",
       "\n",
       "       other  multiple  admin  prepawn_handgun   ...    returned_other  \\\n",
       "12480    NaN         8    0.0              NaN   ...               NaN   \n",
       "12481    NaN         8    1.0              NaN   ...               NaN   \n",
       "12482    NaN         5    0.0              NaN   ...               NaN   \n",
       "12483    NaN         2    0.0              NaN   ...               NaN   \n",
       "12484    NaN         5    0.0              NaN   ...               NaN   \n",
       "\n",
       "       rentals_handgun  rentals_long_gun  private_sale_handgun  \\\n",
       "12480              NaN               NaN                   NaN   \n",
       "12481              NaN               NaN                   NaN   \n",
       "12482              NaN               NaN                   NaN   \n",
       "12483              NaN               NaN                   NaN   \n",
       "12484              NaN               NaN                   NaN   \n",
       "\n",
       "       private_sale_long_gun  private_sale_other  return_to_seller_handgun  \\\n",
       "12480                    NaN                 NaN                       NaN   \n",
       "12481                    NaN                 NaN                       NaN   \n",
       "12482                    NaN                 NaN                       NaN   \n",
       "12483                    NaN                 NaN                       NaN   \n",
       "12484                    NaN                 NaN                       NaN   \n",
       "\n",
       "       return_to_seller_long_gun  return_to_seller_other  totals  \n",
       "12480                        NaN                     NaN      24  \n",
       "12481                        NaN                     NaN     361  \n",
       "12482                        NaN                     NaN     408  \n",
       "12483                        NaN                     NaN     241  \n",
       "12484                        NaN                     NaN     107  \n",
       "\n",
       "[5 rows x 27 columns]"
      ]
     },
     "execution_count": 3,
     "metadata": {},
     "output_type": "execute_result"
    }
   ],
   "source": [
    "# Print the last 5 rows\n",
    "gun_data_df.tail()"
   ]
  },
  {
   "cell_type": "markdown",
   "metadata": {},
   "source": [
    "There are so many columns in this data set we can't even display them all! Also, looking at the tail of the dataset we see there are a lot of NaNs, or *Not a Number*s. We'll definitely have to deal with those at some point, but first let's just get a list of all the columns and figure out what we need to answer the question."
   ]
  },
  {
   "cell_type": "code",
   "execution_count": 4,
   "metadata": {
    "scrolled": true
   },
   "outputs": [
    {
     "data": {
      "text/plain": [
       "Index(['month', 'state', 'permit', 'permit_recheck', 'handgun', 'long_gun',\n",
       "       'other', 'multiple', 'admin', 'prepawn_handgun', 'prepawn_long_gun',\n",
       "       'prepawn_other', 'redemption_handgun', 'redemption_long_gun',\n",
       "       'redemption_other', 'returned_handgun', 'returned_long_gun',\n",
       "       'returned_other', 'rentals_handgun', 'rentals_long_gun',\n",
       "       'private_sale_handgun', 'private_sale_long_gun', 'private_sale_other',\n",
       "       'return_to_seller_handgun', 'return_to_seller_long_gun',\n",
       "       'return_to_seller_other', 'totals'],\n",
       "      dtype='object')"
      ]
     },
     "execution_count": 4,
     "metadata": {},
     "output_type": "execute_result"
    }
   ],
   "source": [
    "gun_data_df.columns"
   ]
  },
  {
   "cell_type": "markdown",
   "metadata": {},
   "source": [
    "Since our question only deals with gun sales (not rentals, returns, permits, etc) the only columns that are relevant to our investiation are: `month`, `state`, `handgun`, `long_gun`, `other`, `multiple`, `private_sale_handgun`, `private_sale_long_gun`, and `private_sale_other`, so we'll drop the other columns to make things easier to work with."
   ]
  },
  {
   "cell_type": "code",
   "execution_count": 5,
   "metadata": {
    "scrolled": false
   },
   "outputs": [
    {
     "data": {
      "text/html": [
       "<div>\n",
       "<style scoped>\n",
       "    .dataframe tbody tr th:only-of-type {\n",
       "        vertical-align: middle;\n",
       "    }\n",
       "\n",
       "    .dataframe tbody tr th {\n",
       "        vertical-align: top;\n",
       "    }\n",
       "\n",
       "    .dataframe thead th {\n",
       "        text-align: right;\n",
       "    }\n",
       "</style>\n",
       "<table border=\"1\" class=\"dataframe\">\n",
       "  <thead>\n",
       "    <tr style=\"text-align: right;\">\n",
       "      <th></th>\n",
       "      <th>month</th>\n",
       "      <th>state</th>\n",
       "      <th>handgun</th>\n",
       "      <th>long_gun</th>\n",
       "      <th>other</th>\n",
       "      <th>multiple</th>\n",
       "      <th>private_sale_handgun</th>\n",
       "      <th>private_sale_long_gun</th>\n",
       "      <th>private_sale_other</th>\n",
       "    </tr>\n",
       "  </thead>\n",
       "  <tbody>\n",
       "    <tr>\n",
       "      <th>0</th>\n",
       "      <td>2017-09</td>\n",
       "      <td>Alabama</td>\n",
       "      <td>5734.0</td>\n",
       "      <td>6320.0</td>\n",
       "      <td>221.0</td>\n",
       "      <td>317</td>\n",
       "      <td>9.0</td>\n",
       "      <td>16.0</td>\n",
       "      <td>3.0</td>\n",
       "    </tr>\n",
       "    <tr>\n",
       "      <th>1</th>\n",
       "      <td>2017-09</td>\n",
       "      <td>Alaska</td>\n",
       "      <td>2320.0</td>\n",
       "      <td>2930.0</td>\n",
       "      <td>219.0</td>\n",
       "      <td>160</td>\n",
       "      <td>17.0</td>\n",
       "      <td>24.0</td>\n",
       "      <td>1.0</td>\n",
       "    </tr>\n",
       "    <tr>\n",
       "      <th>2</th>\n",
       "      <td>2017-09</td>\n",
       "      <td>Arizona</td>\n",
       "      <td>11063.0</td>\n",
       "      <td>7946.0</td>\n",
       "      <td>920.0</td>\n",
       "      <td>631</td>\n",
       "      <td>38.0</td>\n",
       "      <td>12.0</td>\n",
       "      <td>2.0</td>\n",
       "    </tr>\n",
       "    <tr>\n",
       "      <th>3</th>\n",
       "      <td>2017-09</td>\n",
       "      <td>Arkansas</td>\n",
       "      <td>4347.0</td>\n",
       "      <td>6063.0</td>\n",
       "      <td>165.0</td>\n",
       "      <td>366</td>\n",
       "      <td>13.0</td>\n",
       "      <td>23.0</td>\n",
       "      <td>0.0</td>\n",
       "    </tr>\n",
       "    <tr>\n",
       "      <th>4</th>\n",
       "      <td>2017-09</td>\n",
       "      <td>California</td>\n",
       "      <td>37165.0</td>\n",
       "      <td>24581.0</td>\n",
       "      <td>2984.0</td>\n",
       "      <td>0</td>\n",
       "      <td>0.0</td>\n",
       "      <td>0.0</td>\n",
       "      <td>0.0</td>\n",
       "    </tr>\n",
       "  </tbody>\n",
       "</table>\n",
       "</div>"
      ],
      "text/plain": [
       "     month       state  handgun  long_gun   other  multiple  \\\n",
       "0  2017-09     Alabama   5734.0    6320.0   221.0       317   \n",
       "1  2017-09      Alaska   2320.0    2930.0   219.0       160   \n",
       "2  2017-09     Arizona  11063.0    7946.0   920.0       631   \n",
       "3  2017-09    Arkansas   4347.0    6063.0   165.0       366   \n",
       "4  2017-09  California  37165.0   24581.0  2984.0         0   \n",
       "\n",
       "   private_sale_handgun  private_sale_long_gun  private_sale_other  \n",
       "0                   9.0                   16.0                 3.0  \n",
       "1                  17.0                   24.0                 1.0  \n",
       "2                  38.0                   12.0                 2.0  \n",
       "3                  13.0                   23.0                 0.0  \n",
       "4                   0.0                    0.0                 0.0  "
      ]
     },
     "execution_count": 5,
     "metadata": {},
     "output_type": "execute_result"
    }
   ],
   "source": [
    "gun_data_df.drop(columns=['permit', 'permit_recheck', 'admin', 'prepawn_handgun', \n",
    "                          'prepawn_long_gun', 'prepawn_other', 'redemption_handgun', \n",
    "                          'redemption_long_gun', 'redemption_other', 'returned_handgun', \n",
    "                          'returned_long_gun', 'returned_other', 'rentals_handgun', \n",
    "                          'rentals_long_gun', 'return_to_seller_handgun','return_to_seller_long_gun',\n",
    "                          'return_to_seller_other', 'totals'], inplace=True)\n",
    "\n",
    "gun_data_df.head()"
   ]
  },
  {
   "cell_type": "markdown",
   "metadata": {},
   "source": [
    "That takes care of the columns. Now let's see what each column is currently being stored as."
   ]
  },
  {
   "cell_type": "code",
   "execution_count": 6,
   "metadata": {
    "scrolled": true
   },
   "outputs": [
    {
     "data": {
      "text/plain": [
       "month                     object\n",
       "state                     object\n",
       "handgun                  float64\n",
       "long_gun                 float64\n",
       "other                    float64\n",
       "multiple                   int64\n",
       "private_sale_handgun     float64\n",
       "private_sale_long_gun    float64\n",
       "private_sale_other       float64\n",
       "dtype: object"
      ]
     },
     "execution_count": 6,
     "metadata": {},
     "output_type": "execute_result"
    }
   ],
   "source": [
    "gun_data_df.dtypes"
   ]
  },
  {
   "cell_type": "markdown",
   "metadata": {},
   "source": [
    "Everything looks fine except for the `month` column. An `object` is also known as a `string`, and it's just plain text. If we first convert the column into a `datetime` datatype, then set it as our dataframe's index we'll be able to aggregate the data by year/month, or plot it over time easily."
   ]
  },
  {
   "cell_type": "code",
   "execution_count": 7,
   "metadata": {
    "scrolled": true
   },
   "outputs": [
    {
     "data": {
      "text/html": [
       "<div>\n",
       "<style scoped>\n",
       "    .dataframe tbody tr th:only-of-type {\n",
       "        vertical-align: middle;\n",
       "    }\n",
       "\n",
       "    .dataframe tbody tr th {\n",
       "        vertical-align: top;\n",
       "    }\n",
       "\n",
       "    .dataframe thead th {\n",
       "        text-align: right;\n",
       "    }\n",
       "</style>\n",
       "<table border=\"1\" class=\"dataframe\">\n",
       "  <thead>\n",
       "    <tr style=\"text-align: right;\">\n",
       "      <th></th>\n",
       "      <th>state</th>\n",
       "      <th>handgun</th>\n",
       "      <th>long_gun</th>\n",
       "      <th>other</th>\n",
       "      <th>multiple</th>\n",
       "      <th>private_sale_handgun</th>\n",
       "      <th>private_sale_long_gun</th>\n",
       "      <th>private_sale_other</th>\n",
       "    </tr>\n",
       "    <tr>\n",
       "      <th>date</th>\n",
       "      <th></th>\n",
       "      <th></th>\n",
       "      <th></th>\n",
       "      <th></th>\n",
       "      <th></th>\n",
       "      <th></th>\n",
       "      <th></th>\n",
       "      <th></th>\n",
       "    </tr>\n",
       "  </thead>\n",
       "  <tbody>\n",
       "    <tr>\n",
       "      <th>2017-09-01</th>\n",
       "      <td>Alabama</td>\n",
       "      <td>5734.0</td>\n",
       "      <td>6320.0</td>\n",
       "      <td>221.0</td>\n",
       "      <td>317</td>\n",
       "      <td>9.0</td>\n",
       "      <td>16.0</td>\n",
       "      <td>3.0</td>\n",
       "    </tr>\n",
       "    <tr>\n",
       "      <th>2017-09-01</th>\n",
       "      <td>Alaska</td>\n",
       "      <td>2320.0</td>\n",
       "      <td>2930.0</td>\n",
       "      <td>219.0</td>\n",
       "      <td>160</td>\n",
       "      <td>17.0</td>\n",
       "      <td>24.0</td>\n",
       "      <td>1.0</td>\n",
       "    </tr>\n",
       "    <tr>\n",
       "      <th>2017-09-01</th>\n",
       "      <td>Arizona</td>\n",
       "      <td>11063.0</td>\n",
       "      <td>7946.0</td>\n",
       "      <td>920.0</td>\n",
       "      <td>631</td>\n",
       "      <td>38.0</td>\n",
       "      <td>12.0</td>\n",
       "      <td>2.0</td>\n",
       "    </tr>\n",
       "    <tr>\n",
       "      <th>2017-09-01</th>\n",
       "      <td>Arkansas</td>\n",
       "      <td>4347.0</td>\n",
       "      <td>6063.0</td>\n",
       "      <td>165.0</td>\n",
       "      <td>366</td>\n",
       "      <td>13.0</td>\n",
       "      <td>23.0</td>\n",
       "      <td>0.0</td>\n",
       "    </tr>\n",
       "    <tr>\n",
       "      <th>2017-09-01</th>\n",
       "      <td>California</td>\n",
       "      <td>37165.0</td>\n",
       "      <td>24581.0</td>\n",
       "      <td>2984.0</td>\n",
       "      <td>0</td>\n",
       "      <td>0.0</td>\n",
       "      <td>0.0</td>\n",
       "      <td>0.0</td>\n",
       "    </tr>\n",
       "  </tbody>\n",
       "</table>\n",
       "</div>"
      ],
      "text/plain": [
       "                 state  handgun  long_gun   other  multiple  \\\n",
       "date                                                          \n",
       "2017-09-01     Alabama   5734.0    6320.0   221.0       317   \n",
       "2017-09-01      Alaska   2320.0    2930.0   219.0       160   \n",
       "2017-09-01     Arizona  11063.0    7946.0   920.0       631   \n",
       "2017-09-01    Arkansas   4347.0    6063.0   165.0       366   \n",
       "2017-09-01  California  37165.0   24581.0  2984.0         0   \n",
       "\n",
       "            private_sale_handgun  private_sale_long_gun  private_sale_other  \n",
       "date                                                                         \n",
       "2017-09-01                   9.0                   16.0                 3.0  \n",
       "2017-09-01                  17.0                   24.0                 1.0  \n",
       "2017-09-01                  38.0                   12.0                 2.0  \n",
       "2017-09-01                  13.0                   23.0                 0.0  \n",
       "2017-09-01                   0.0                    0.0                 0.0  "
      ]
     },
     "execution_count": 7,
     "metadata": {},
     "output_type": "execute_result"
    }
   ],
   "source": [
    "# recast the month column\n",
    "gun_data_df.month = pd.to_datetime(gun_data_df.month)\n",
    "\n",
    "# Set the index to the 'month' column\n",
    "gun_data_df.index = gun_data_df.month\n",
    "\n",
    "# Rename the index\n",
    "gun_data_df.index.name = 'date'\n",
    "\n",
    "# Drop the 'month' column as we no longer need it\n",
    "gun_data_df.drop(columns=['month'], inplace=True)\n",
    "\n",
    "gun_data_df.head()"
   ]
  },
  {
   "cell_type": "markdown",
   "metadata": {},
   "source": [
    "One last bit of clean up; Since our dataset includes partial years for the first and last year, let's clip those off and only work with years that were complete."
   ]
  },
  {
   "cell_type": "code",
   "execution_count": 8,
   "metadata": {},
   "outputs": [],
   "source": [
    "gun_data_df = gun_data_df[(gun_data_df.index.year < 2017) & (gun_data_df.index.year > 1998)]"
   ]
  },
  {
   "cell_type": "markdown",
   "metadata": {},
   "source": [
    "##### Dealing with missing values"
   ]
  },
  {
   "cell_type": "markdown",
   "metadata": {},
   "source": [
    "Now that we've trimmed the dataset down to what we need to answer the question, let's deal with those `NaN`s. First let's see which columns are most effected"
   ]
  },
  {
   "cell_type": "code",
   "execution_count": 9,
   "metadata": {
    "scrolled": false
   },
   "outputs": [
    {
     "data": {
      "text/plain": [
       "state                    11880\n",
       "handgun                  11861\n",
       "long_gun                 11862\n",
       "other                     5005\n",
       "multiple                 11880\n",
       "private_sale_handgun      2255\n",
       "private_sale_long_gun     2255\n",
       "private_sale_other        2255\n",
       "dtype: int64"
      ]
     },
     "execution_count": 9,
     "metadata": {},
     "output_type": "execute_result"
    }
   ],
   "source": [
    "gun_data_df.count()"
   ]
  },
  {
   "cell_type": "markdown",
   "metadata": {},
   "source": [
    "So there's quite a bit of missing data in the `private_sale_*` and `other` columns, but this was due to those not being categories being tracked in the earlier periods of time. This being the case we'll just fill in those blanks with 0's"
   ]
  },
  {
   "cell_type": "code",
   "execution_count": 10,
   "metadata": {
    "scrolled": false
   },
   "outputs": [
    {
     "data": {
      "text/plain": [
       "state                    11880\n",
       "handgun                  11880\n",
       "long_gun                 11880\n",
       "other                    11880\n",
       "multiple                 11880\n",
       "private_sale_handgun     11880\n",
       "private_sale_long_gun    11880\n",
       "private_sale_other       11880\n",
       "dtype: int64"
      ]
     },
     "execution_count": 10,
     "metadata": {},
     "output_type": "execute_result"
    }
   ],
   "source": [
    "gun_data_df.fillna(0, inplace=True)\n",
    "gun_data_df.count()"
   ]
  },
  {
   "cell_type": "markdown",
   "metadata": {},
   "source": [
    "One more thing we can do now to save ourselves some time in the exploration phase it to create a new `total_sales` column that is the sum of the other numerical columns."
   ]
  },
  {
   "cell_type": "code",
   "execution_count": 11,
   "metadata": {},
   "outputs": [
    {
     "data": {
      "text/html": [
       "<div>\n",
       "<style scoped>\n",
       "    .dataframe tbody tr th:only-of-type {\n",
       "        vertical-align: middle;\n",
       "    }\n",
       "\n",
       "    .dataframe tbody tr th {\n",
       "        vertical-align: top;\n",
       "    }\n",
       "\n",
       "    .dataframe thead th {\n",
       "        text-align: right;\n",
       "    }\n",
       "</style>\n",
       "<table border=\"1\" class=\"dataframe\">\n",
       "  <thead>\n",
       "    <tr style=\"text-align: right;\">\n",
       "      <th></th>\n",
       "      <th>state</th>\n",
       "      <th>handgun</th>\n",
       "      <th>long_gun</th>\n",
       "      <th>other</th>\n",
       "      <th>multiple</th>\n",
       "      <th>private_sale_handgun</th>\n",
       "      <th>private_sale_long_gun</th>\n",
       "      <th>private_sale_other</th>\n",
       "      <th>total_sales</th>\n",
       "    </tr>\n",
       "    <tr>\n",
       "      <th>date</th>\n",
       "      <th></th>\n",
       "      <th></th>\n",
       "      <th></th>\n",
       "      <th></th>\n",
       "      <th></th>\n",
       "      <th></th>\n",
       "      <th></th>\n",
       "      <th></th>\n",
       "      <th></th>\n",
       "    </tr>\n",
       "  </thead>\n",
       "  <tbody>\n",
       "    <tr>\n",
       "      <th>2016-12-01</th>\n",
       "      <td>Alabama</td>\n",
       "      <td>13733.0</td>\n",
       "      <td>17519.0</td>\n",
       "      <td>376.0</td>\n",
       "      <td>533</td>\n",
       "      <td>2.0</td>\n",
       "      <td>2.0</td>\n",
       "      <td>1.0</td>\n",
       "      <td>32166.0</td>\n",
       "    </tr>\n",
       "    <tr>\n",
       "      <th>2016-12-01</th>\n",
       "      <td>Alaska</td>\n",
       "      <td>4087.0</td>\n",
       "      <td>3698.0</td>\n",
       "      <td>243.0</td>\n",
       "      <td>191</td>\n",
       "      <td>0.0</td>\n",
       "      <td>0.0</td>\n",
       "      <td>0.0</td>\n",
       "      <td>8219.0</td>\n",
       "    </tr>\n",
       "    <tr>\n",
       "      <th>2016-12-01</th>\n",
       "      <td>Arizona</td>\n",
       "      <td>18024.0</td>\n",
       "      <td>13785.0</td>\n",
       "      <td>1180.0</td>\n",
       "      <td>703</td>\n",
       "      <td>2.0</td>\n",
       "      <td>2.0</td>\n",
       "      <td>0.0</td>\n",
       "      <td>33696.0</td>\n",
       "    </tr>\n",
       "    <tr>\n",
       "      <th>2016-12-01</th>\n",
       "      <td>Arkansas</td>\n",
       "      <td>9192.0</td>\n",
       "      <td>13433.0</td>\n",
       "      <td>277.0</td>\n",
       "      <td>385</td>\n",
       "      <td>2.0</td>\n",
       "      <td>7.0</td>\n",
       "      <td>0.0</td>\n",
       "      <td>23296.0</td>\n",
       "    </tr>\n",
       "    <tr>\n",
       "      <th>2016-12-01</th>\n",
       "      <td>California</td>\n",
       "      <td>63649.0</td>\n",
       "      <td>93224.0</td>\n",
       "      <td>77929.0</td>\n",
       "      <td>0</td>\n",
       "      <td>0.0</td>\n",
       "      <td>0.0</td>\n",
       "      <td>0.0</td>\n",
       "      <td>234802.0</td>\n",
       "    </tr>\n",
       "  </tbody>\n",
       "</table>\n",
       "</div>"
      ],
      "text/plain": [
       "                 state  handgun  long_gun    other  multiple  \\\n",
       "date                                                           \n",
       "2016-12-01     Alabama  13733.0   17519.0    376.0       533   \n",
       "2016-12-01      Alaska   4087.0    3698.0    243.0       191   \n",
       "2016-12-01     Arizona  18024.0   13785.0   1180.0       703   \n",
       "2016-12-01    Arkansas   9192.0   13433.0    277.0       385   \n",
       "2016-12-01  California  63649.0   93224.0  77929.0         0   \n",
       "\n",
       "            private_sale_handgun  private_sale_long_gun  private_sale_other  \\\n",
       "date                                                                          \n",
       "2016-12-01                   2.0                    2.0                 1.0   \n",
       "2016-12-01                   0.0                    0.0                 0.0   \n",
       "2016-12-01                   2.0                    2.0                 0.0   \n",
       "2016-12-01                   2.0                    7.0                 0.0   \n",
       "2016-12-01                   0.0                    0.0                 0.0   \n",
       "\n",
       "            total_sales  \n",
       "date                     \n",
       "2016-12-01      32166.0  \n",
       "2016-12-01       8219.0  \n",
       "2016-12-01      33696.0  \n",
       "2016-12-01      23296.0  \n",
       "2016-12-01     234802.0  "
      ]
     },
     "execution_count": 11,
     "metadata": {},
     "output_type": "execute_result"
    }
   ],
   "source": [
    "gun_data_df['total_sales'] = gun_data_df.sum(axis=1)\n",
    "gun_data_df.head()"
   ]
  },
  {
   "cell_type": "markdown",
   "metadata": {},
   "source": [
    "That takes care of the `gun_data_df`. \n",
    "\n",
    "----\n",
    "\n",
    "Now let's take a look at the **US Census** data to see what needs to be cleaned up there."
   ]
  },
  {
   "cell_type": "code",
   "execution_count": 12,
   "metadata": {
    "scrolled": false
   },
   "outputs": [
    {
     "data": {
      "text/html": [
       "<div>\n",
       "<style scoped>\n",
       "    .dataframe tbody tr th:only-of-type {\n",
       "        vertical-align: middle;\n",
       "    }\n",
       "\n",
       "    .dataframe tbody tr th {\n",
       "        vertical-align: top;\n",
       "    }\n",
       "\n",
       "    .dataframe thead th {\n",
       "        text-align: right;\n",
       "    }\n",
       "</style>\n",
       "<table border=\"1\" class=\"dataframe\">\n",
       "  <thead>\n",
       "    <tr style=\"text-align: right;\">\n",
       "      <th></th>\n",
       "      <th>Fact</th>\n",
       "      <th>Fact Note</th>\n",
       "      <th>Alabama</th>\n",
       "      <th>Alaska</th>\n",
       "      <th>Arizona</th>\n",
       "      <th>Arkansas</th>\n",
       "      <th>California</th>\n",
       "      <th>Colorado</th>\n",
       "      <th>Connecticut</th>\n",
       "      <th>Delaware</th>\n",
       "      <th>...</th>\n",
       "      <th>South Dakota</th>\n",
       "      <th>Tennessee</th>\n",
       "      <th>Texas</th>\n",
       "      <th>Utah</th>\n",
       "      <th>Vermont</th>\n",
       "      <th>Virginia</th>\n",
       "      <th>Washington</th>\n",
       "      <th>West Virginia</th>\n",
       "      <th>Wisconsin</th>\n",
       "      <th>Wyoming</th>\n",
       "    </tr>\n",
       "  </thead>\n",
       "  <tbody>\n",
       "    <tr>\n",
       "      <th>0</th>\n",
       "      <td>Population estimates, July 1, 2016,  (V2016)</td>\n",
       "      <td>NaN</td>\n",
       "      <td>4,863,300</td>\n",
       "      <td>741,894</td>\n",
       "      <td>6,931,071</td>\n",
       "      <td>2,988,248</td>\n",
       "      <td>39,250,017</td>\n",
       "      <td>5,540,545</td>\n",
       "      <td>3,576,452</td>\n",
       "      <td>952,065</td>\n",
       "      <td>...</td>\n",
       "      <td>865454</td>\n",
       "      <td>6651194</td>\n",
       "      <td>27,862,596</td>\n",
       "      <td>3,051,217</td>\n",
       "      <td>624,594</td>\n",
       "      <td>8,411,808</td>\n",
       "      <td>7,288,000</td>\n",
       "      <td>1,831,102</td>\n",
       "      <td>5,778,708</td>\n",
       "      <td>585,501</td>\n",
       "    </tr>\n",
       "    <tr>\n",
       "      <th>1</th>\n",
       "      <td>Population estimates base, April 1, 2010,  (V2...</td>\n",
       "      <td>NaN</td>\n",
       "      <td>4,780,131</td>\n",
       "      <td>710,249</td>\n",
       "      <td>6,392,301</td>\n",
       "      <td>2,916,025</td>\n",
       "      <td>37,254,522</td>\n",
       "      <td>5,029,324</td>\n",
       "      <td>3,574,114</td>\n",
       "      <td>897,936</td>\n",
       "      <td>...</td>\n",
       "      <td>814195</td>\n",
       "      <td>6346298</td>\n",
       "      <td>25,146,100</td>\n",
       "      <td>2,763,888</td>\n",
       "      <td>625,741</td>\n",
       "      <td>8,001,041</td>\n",
       "      <td>6,724,545</td>\n",
       "      <td>1,853,011</td>\n",
       "      <td>5,687,289</td>\n",
       "      <td>563,767</td>\n",
       "    </tr>\n",
       "    <tr>\n",
       "      <th>2</th>\n",
       "      <td>Population, percent change - April 1, 2010 (es...</td>\n",
       "      <td>NaN</td>\n",
       "      <td>1.70%</td>\n",
       "      <td>4.50%</td>\n",
       "      <td>8.40%</td>\n",
       "      <td>2.50%</td>\n",
       "      <td>5.40%</td>\n",
       "      <td>10.20%</td>\n",
       "      <td>0.10%</td>\n",
       "      <td>6.00%</td>\n",
       "      <td>...</td>\n",
       "      <td>0.063</td>\n",
       "      <td>0.048</td>\n",
       "      <td>10.80%</td>\n",
       "      <td>10.40%</td>\n",
       "      <td>-0.20%</td>\n",
       "      <td>5.10%</td>\n",
       "      <td>8.40%</td>\n",
       "      <td>-1.20%</td>\n",
       "      <td>1.60%</td>\n",
       "      <td>3.90%</td>\n",
       "    </tr>\n",
       "    <tr>\n",
       "      <th>3</th>\n",
       "      <td>Population, Census, April 1, 2010</td>\n",
       "      <td>NaN</td>\n",
       "      <td>4,779,736</td>\n",
       "      <td>710,231</td>\n",
       "      <td>6,392,017</td>\n",
       "      <td>2,915,918</td>\n",
       "      <td>37,253,956</td>\n",
       "      <td>5,029,196</td>\n",
       "      <td>3,574,097</td>\n",
       "      <td>897,934</td>\n",
       "      <td>...</td>\n",
       "      <td>814180</td>\n",
       "      <td>6346105</td>\n",
       "      <td>25,145,561</td>\n",
       "      <td>2,763,885</td>\n",
       "      <td>625,741</td>\n",
       "      <td>8,001,024</td>\n",
       "      <td>6,724,540</td>\n",
       "      <td>1,852,994</td>\n",
       "      <td>5,686,986</td>\n",
       "      <td>563,626</td>\n",
       "    </tr>\n",
       "    <tr>\n",
       "      <th>4</th>\n",
       "      <td>Persons under 5 years, percent, July 1, 2016, ...</td>\n",
       "      <td>NaN</td>\n",
       "      <td>6.00%</td>\n",
       "      <td>7.30%</td>\n",
       "      <td>6.30%</td>\n",
       "      <td>6.40%</td>\n",
       "      <td>6.30%</td>\n",
       "      <td>6.10%</td>\n",
       "      <td>5.20%</td>\n",
       "      <td>5.80%</td>\n",
       "      <td>...</td>\n",
       "      <td>0.071</td>\n",
       "      <td>0.061</td>\n",
       "      <td>7.20%</td>\n",
       "      <td>8.30%</td>\n",
       "      <td>4.90%</td>\n",
       "      <td>6.10%</td>\n",
       "      <td>6.20%</td>\n",
       "      <td>5.50%</td>\n",
       "      <td>5.80%</td>\n",
       "      <td>6.50%</td>\n",
       "    </tr>\n",
       "  </tbody>\n",
       "</table>\n",
       "<p>5 rows × 52 columns</p>\n",
       "</div>"
      ],
      "text/plain": [
       "                                                Fact Fact Note    Alabama  \\\n",
       "0       Population estimates, July 1, 2016,  (V2016)       NaN  4,863,300   \n",
       "1  Population estimates base, April 1, 2010,  (V2...       NaN  4,780,131   \n",
       "2  Population, percent change - April 1, 2010 (es...       NaN      1.70%   \n",
       "3                  Population, Census, April 1, 2010       NaN  4,779,736   \n",
       "4  Persons under 5 years, percent, July 1, 2016, ...       NaN      6.00%   \n",
       "\n",
       "    Alaska    Arizona   Arkansas  California   Colorado Connecticut Delaware  \\\n",
       "0  741,894  6,931,071  2,988,248  39,250,017  5,540,545   3,576,452  952,065   \n",
       "1  710,249  6,392,301  2,916,025  37,254,522  5,029,324   3,574,114  897,936   \n",
       "2    4.50%      8.40%      2.50%       5.40%     10.20%       0.10%    6.00%   \n",
       "3  710,231  6,392,017  2,915,918  37,253,956  5,029,196   3,574,097  897,934   \n",
       "4    7.30%      6.30%      6.40%       6.30%      6.10%       5.20%    5.80%   \n",
       "\n",
       "    ...    South Dakota Tennessee       Texas       Utah  Vermont   Virginia  \\\n",
       "0   ...          865454   6651194  27,862,596  3,051,217  624,594  8,411,808   \n",
       "1   ...          814195   6346298  25,146,100  2,763,888  625,741  8,001,041   \n",
       "2   ...           0.063     0.048      10.80%     10.40%   -0.20%      5.10%   \n",
       "3   ...          814180   6346105  25,145,561  2,763,885  625,741  8,001,024   \n",
       "4   ...           0.071     0.061       7.20%      8.30%    4.90%      6.10%   \n",
       "\n",
       "  Washington West Virginia  Wisconsin  Wyoming  \n",
       "0  7,288,000     1,831,102  5,778,708  585,501  \n",
       "1  6,724,545     1,853,011  5,687,289  563,767  \n",
       "2      8.40%        -1.20%      1.60%    3.90%  \n",
       "3  6,724,540     1,852,994  5,686,986  563,626  \n",
       "4      6.20%         5.50%      5.80%    6.50%  \n",
       "\n",
       "[5 rows x 52 columns]"
      ]
     },
     "execution_count": 12,
     "metadata": {},
     "output_type": "execute_result"
    }
   ],
   "source": [
    "us_census_df.head()"
   ]
  },
  {
   "cell_type": "markdown",
   "metadata": {},
   "source": [
    "Ah, so this is a \"Fact Table\" where each row lists a single fact with each column representing the value for each state. Let's list just the `Fact` column to see what facts are available"
   ]
  },
  {
   "cell_type": "code",
   "execution_count": 13,
   "metadata": {
    "scrolled": false
   },
   "outputs": [
    {
     "name": "stdout",
     "output_type": "stream",
     "text": [
      "Population estimates, July 1, 2016,  (V2016)\n",
      "Population estimates base, April 1, 2010,  (V2016)\n",
      "Population, percent change - April 1, 2010 (estimates base) to July 1, 2016,  (V2016)\n",
      "Population, Census, April 1, 2010\n",
      "Persons under 5 years, percent, July 1, 2016,  (V2016)\n",
      "Persons under 5 years, percent, April 1, 2010\n",
      "Persons under 18 years, percent, July 1, 2016,  (V2016)\n",
      "Persons under 18 years, percent, April 1, 2010\n",
      "Persons 65 years and over, percent,  July 1, 2016,  (V2016)\n",
      "Persons 65 years and over, percent, April 1, 2010\n",
      "Female persons, percent,  July 1, 2016,  (V2016)\n",
      "Female persons, percent, April 1, 2010\n",
      "White alone, percent, July 1, 2016,  (V2016)\n",
      "Black or African American alone, percent, July 1, 2016,  (V2016)\n",
      "American Indian and Alaska Native alone, percent, July 1, 2016,  (V2016)\n",
      "Asian alone, percent, July 1, 2016,  (V2016)\n",
      "Native Hawaiian and Other Pacific Islander alone, percent, July 1, 2016,  (V2016)\n",
      "Two or More Races, percent, July 1, 2016,  (V2016)\n",
      "Hispanic or Latino, percent, July 1, 2016,  (V2016)\n",
      "White alone, not Hispanic or Latino, percent, July 1, 2016,  (V2016)\n",
      "Veterans, 2011-2015\n",
      "Foreign born persons, percent, 2011-2015\n",
      "Housing units,  July 1, 2016,  (V2016)\n",
      "Housing units, April 1, 2010\n",
      "Owner-occupied housing unit rate, 2011-2015\n",
      "Median value of owner-occupied housing units, 2011-2015\n",
      "Median selected monthly owner costs -with a mortgage, 2011-2015\n",
      "Median selected monthly owner costs -without a mortgage, 2011-2015\n",
      "Median gross rent, 2011-2015\n",
      "Building permits, 2016\n",
      "Households, 2011-2015\n",
      "Persons per household, 2011-2015\n",
      "Living in same house 1 year ago, percent of persons age 1 year+, 2011-2015\n",
      "Language other than English spoken at home, percent of persons age 5 years+, 2011-2015\n",
      "High school graduate or higher, percent of persons age 25 years+, 2011-2015\n",
      "Bachelor's degree or higher, percent of persons age 25 years+, 2011-2015\n",
      "With a disability, under age 65 years, percent, 2011-2015\n",
      "Persons  without health insurance, under age 65 years, percent\n",
      "In civilian labor force, total, percent of population age 16 years+, 2011-2015\n",
      "In civilian labor force, female, percent of population age 16 years+, 2011-2015\n",
      "Total accommodation and food services sales, 2012 ($1,000)\n",
      "Total health care and social assistance receipts/revenue, 2012 ($1,000)\n",
      "Total manufacturers shipments, 2012 ($1,000)\n",
      "Total merchant wholesaler sales, 2012 ($1,000)\n",
      "Total retail sales, 2012 ($1,000)\n",
      "Total retail sales per capita, 2012\n",
      "Mean travel time to work (minutes), workers age 16 years+, 2011-2015\n",
      "Median household income (in 2015 dollars), 2011-2015\n",
      "Per capita income in past 12 months (in 2015 dollars), 2011-2015\n",
      "Persons in poverty, percent\n",
      "Total employer establishments, 2015\n",
      "Total employment, 2015\n",
      "Total annual payroll, 2015 ($1,000)\n",
      "Total employment, percent change, 2014-2015\n",
      "Total nonemployer establishments, 2015\n",
      "All firms, 2012\n",
      "Men-owned firms, 2012\n",
      "Women-owned firms, 2012\n",
      "Minority-owned firms, 2012\n",
      "Nonminority-owned firms, 2012\n",
      "Veteran-owned firms, 2012\n",
      "Nonveteran-owned firms, 2012\n",
      "Population per square mile, 2010\n",
      "Land area in square miles, 2010\n",
      "FIPS Code\n",
      "nan\n",
      "NOTE: FIPS Code values are enclosed in quotes to ensure leading zeros remain intact.\n",
      "nan\n",
      "Value Notes\n",
      "1\n",
      "nan\n",
      "Fact Notes\n",
      "(a)\n",
      "(b)\n",
      "(c)\n",
      "nan\n",
      "Value Flags\n",
      "-\n",
      "D\n",
      "F\n",
      "FN\n",
      "nan\n",
      "S\n",
      "X\n",
      "Z\n"
     ]
    }
   ],
   "source": [
    "for row in us_census_df['Fact']:\n",
    "    print(row)"
   ]
  },
  {
   "cell_type": "markdown",
   "metadata": {},
   "source": [
    "Wow, that's a lot of facts! For the purpose of this investigation it looks like the only row in the dataframe we need is the *Population estimates, July 1, 2016,  (V2016)* row. First we'll need to drop the `Fact Note` and `Fact` columns before selecting only the first row. Doing this will convert our dataframe to a series with the `state` as the index, and then finally, convert all the state values to a numeric value. This will give us a Pandas `series` object we can later use in our per capita calculations."
   ]
  },
  {
   "cell_type": "code",
   "execution_count": 14,
   "metadata": {},
   "outputs": [
    {
     "data": {
      "text/plain": [
       "Alabama        4,863,300\n",
       "Alaska           741,894\n",
       "Arizona        6,931,071\n",
       "Arkansas       2,988,248\n",
       "California    39,250,017\n",
       "Name: population, dtype: object"
      ]
     },
     "execution_count": 14,
     "metadata": {},
     "output_type": "execute_result"
    }
   ],
   "source": [
    "# drop the 'Fact' and `Fact Note` columns\n",
    "us_census_df.drop(columns=['Fact', 'Fact Note'], inplace=True)\n",
    "\n",
    "# drop all the rows not relevant to our investigation\n",
    "us_census_df = us_census_df.iloc[0]\n",
    "\n",
    "# rename the index from 0 (the previous index value) to what the value represents, the 'popultation' of each state\n",
    "us_census_df.name = 'population'\n",
    "\n",
    "us_census_df.head()"
   ]
  },
  {
   "cell_type": "markdown",
   "metadata": {},
   "source": [
    "That looks great except for one thing. The values in the series are currently an `object`. Before we can use the values in mathmatical formulas we'll have to convert them to a numeric datatype.\n",
    "\n",
    "##### Converting datatypes"
   ]
  },
  {
   "cell_type": "code",
   "execution_count": 15,
   "metadata": {},
   "outputs": [
    {
     "data": {
      "text/plain": [
       "Alabama        4863300\n",
       "Alaska          741894\n",
       "Arizona        6931071\n",
       "Arkansas       2988248\n",
       "California    39250017\n",
       "Name: population, dtype: int32"
      ]
     },
     "execution_count": 15,
     "metadata": {},
     "output_type": "execute_result"
    }
   ],
   "source": [
    "# Since Panads `.to_numeric()` method cannot handle string numbers with commas first we'll remove those\n",
    "us_census_df = us_census_df.apply(lambda state: state.replace(',',''))\n",
    "\n",
    "# next we'll convert the string values to integers\n",
    "us_census_df = pd.to_numeric(us_census_df, downcast='integer')\n",
    "\n",
    "# now to check our work\n",
    "us_census_df.head()"
   ]
  },
  {
   "cell_type": "markdown",
   "metadata": {},
   "source": [
    "That takes care of the cleaning and preparing our data for analysis. "
   ]
  },
  {
   "cell_type": "markdown",
   "metadata": {},
   "source": [
    "<a id='eda'></a>\n",
    "## Exploratory Data Analysis\n",
    "\n",
    "### What is the overall trend of gun purchases at a national level over time?"
   ]
  },
  {
   "cell_type": "markdown",
   "metadata": {},
   "source": [
    "Since we're only interested in the average total sales for each year, that'll be the column we plot"
   ]
  },
  {
   "cell_type": "code",
   "execution_count": 16,
   "metadata": {},
   "outputs": [
    {
     "data": {
      "text/plain": [
       "<matplotlib.axes._subplots.AxesSubplot at 0x23a349e99b0>"
      ]
     },
     "execution_count": 16,
     "metadata": {},
     "output_type": "execute_result"
    },
    {
     "data": {
      "image/png": "[encoded data removed]",
      "text/plain": [
       "<Figure size 432x288 with 1 Axes>"
      ]
     },
     "metadata": {
      "needs_background": "light"
     },
     "output_type": "display_data"
    }
   ],
   "source": [
    "gun_data_df.groupby(gun_data_df.index.year)['total_sales'].mean().plot(title='Total Firearm Sales by Year')"
   ]
  },
  {
   "cell_type": "markdown",
   "metadata": {},
   "source": [
    "From this data we see there is a clear upward trend in firearm sales over the time period of our sample. In 2002 nationwide firearm sales had at an average of around 10,000 sales per month, but rose to over 22,000 sales by 2015."
   ]
  },
  {
   "cell_type": "markdown",
   "metadata": {},
   "source": [
    "#### And now just because I'm curious, what are the plots for the two major categories:"
   ]
  },
  {
   "cell_type": "code",
   "execution_count": 17,
   "metadata": {
    "scrolled": true
   },
   "outputs": [
    {
     "data": {
      "text/plain": [
       "<matplotlib.axes._subplots.AxesSubplot at 0x23a34f71b70>"
      ]
     },
     "execution_count": 17,
     "metadata": {},
     "output_type": "execute_result"
    },
    {
     "data": {
      "image/png": "[encoded data removed]",
      "text/plain": [
       "<Figure size 432x288 with 1 Axes>"
      ]
     },
     "metadata": {
      "needs_background": "light"
     },
     "output_type": "display_data"
    }
   ],
   "source": [
    "gun_data_df.groupby(gun_data_df.index.year)['handgun', 'long_gun'].mean().plot()"
   ]
  },
  {
   "cell_type": "markdown",
   "metadata": {},
   "source": [
    "That's interesting, something happened around 2012-2013 that cause long gun sales to drop. Without any additional data there's no way to know what might have been the cause, but it's not really relevant to the question we proposed either, just something that might warrant a separate investigation."
   ]
  },
  {
   "cell_type": "markdown",
   "metadata": {},
   "source": [
    "### Which state has the highest firearm sales per capita for the given time period (2016)?"
   ]
  },
  {
   "cell_type": "markdown",
   "metadata": {},
   "source": [
    "The first thing we'll need to do to answer this question is narrow our firarm sales dataset to only the year 2016."
   ]
  },
  {
   "cell_type": "code",
   "execution_count": 18,
   "metadata": {
    "scrolled": true
   },
   "outputs": [
    {
     "data": {
      "text/plain": [
       "DatetimeIndex(['2016-12-01', '2016-11-01', '2016-10-01', '2016-09-01',\n",
       "               '2016-08-01', '2016-07-01', '2016-06-01', '2016-05-01',\n",
       "               '2016-04-01', '2016-03-01', '2016-02-01', '2016-01-01'],\n",
       "              dtype='datetime64[ns]', name='date', freq=None)"
      ]
     },
     "execution_count": 18,
     "metadata": {},
     "output_type": "execute_result"
    }
   ],
   "source": [
    "# Create a new dataframe that is just the data for the year 2016\n",
    "sampled_df = gun_data_df[gun_data_df.index.year == 2016]\n",
    "\n",
    "sampled_df.index.unique()"
   ]
  },
  {
   "cell_type": "markdown",
   "metadata": {},
   "source": [
    "Now we have a dataframe that has each states sales by month for the year 2016. Next we'll add each month up together by state to give us a table of each state and its firearm sales for 2016."
   ]
  },
  {
   "cell_type": "code",
   "execution_count": 19,
   "metadata": {},
   "outputs": [
    {
     "data": {
      "text/html": [
       "<div>\n",
       "<style scoped>\n",
       "    .dataframe tbody tr th:only-of-type {\n",
       "        vertical-align: middle;\n",
       "    }\n",
       "\n",
       "    .dataframe tbody tr th {\n",
       "        vertical-align: top;\n",
       "    }\n",
       "\n",
       "    .dataframe thead th {\n",
       "        text-align: right;\n",
       "    }\n",
       "</style>\n",
       "<table border=\"1\" class=\"dataframe\">\n",
       "  <thead>\n",
       "    <tr style=\"text-align: right;\">\n",
       "      <th></th>\n",
       "      <th>handgun</th>\n",
       "      <th>long_gun</th>\n",
       "      <th>other</th>\n",
       "      <th>multiple</th>\n",
       "      <th>private_sale_handgun</th>\n",
       "      <th>private_sale_long_gun</th>\n",
       "      <th>private_sale_other</th>\n",
       "      <th>total_sales</th>\n",
       "    </tr>\n",
       "    <tr>\n",
       "      <th>state</th>\n",
       "      <th></th>\n",
       "      <th></th>\n",
       "      <th></th>\n",
       "      <th></th>\n",
       "      <th></th>\n",
       "      <th></th>\n",
       "      <th></th>\n",
       "      <th></th>\n",
       "    </tr>\n",
       "  </thead>\n",
       "  <tbody>\n",
       "    <tr>\n",
       "      <th>Alabama</th>\n",
       "      <td>153123.0</td>\n",
       "      <td>121963.0</td>\n",
       "      <td>6104.0</td>\n",
       "      <td>6545</td>\n",
       "      <td>72.0</td>\n",
       "      <td>65.0</td>\n",
       "      <td>4.0</td>\n",
       "      <td>287876.0</td>\n",
       "    </tr>\n",
       "    <tr>\n",
       "      <th>Alaska</th>\n",
       "      <td>37491.0</td>\n",
       "      <td>36887.0</td>\n",
       "      <td>2889.0</td>\n",
       "      <td>2316</td>\n",
       "      <td>39.0</td>\n",
       "      <td>66.0</td>\n",
       "      <td>1.0</td>\n",
       "      <td>79689.0</td>\n",
       "    </tr>\n",
       "    <tr>\n",
       "      <th>Arizona</th>\n",
       "      <td>166784.0</td>\n",
       "      <td>108988.0</td>\n",
       "      <td>13122.0</td>\n",
       "      <td>7908</td>\n",
       "      <td>76.0</td>\n",
       "      <td>56.0</td>\n",
       "      <td>11.0</td>\n",
       "      <td>296945.0</td>\n",
       "    </tr>\n",
       "    <tr>\n",
       "      <th>Arkansas</th>\n",
       "      <td>80244.0</td>\n",
       "      <td>82120.0</td>\n",
       "      <td>3059.0</td>\n",
       "      <td>4400</td>\n",
       "      <td>72.0</td>\n",
       "      <td>64.0</td>\n",
       "      <td>6.0</td>\n",
       "      <td>169965.0</td>\n",
       "    </tr>\n",
       "    <tr>\n",
       "      <th>California</th>\n",
       "      <td>560355.0</td>\n",
       "      <td>554550.0</td>\n",
       "      <td>211707.0</td>\n",
       "      <td>0</td>\n",
       "      <td>0.0</td>\n",
       "      <td>0.0</td>\n",
       "      <td>0.0</td>\n",
       "      <td>1326612.0</td>\n",
       "    </tr>\n",
       "  </tbody>\n",
       "</table>\n",
       "</div>"
      ],
      "text/plain": [
       "             handgun  long_gun     other  multiple  private_sale_handgun  \\\n",
       "state                                                                      \n",
       "Alabama     153123.0  121963.0    6104.0      6545                  72.0   \n",
       "Alaska       37491.0   36887.0    2889.0      2316                  39.0   \n",
       "Arizona     166784.0  108988.0   13122.0      7908                  76.0   \n",
       "Arkansas     80244.0   82120.0    3059.0      4400                  72.0   \n",
       "California  560355.0  554550.0  211707.0         0                   0.0   \n",
       "\n",
       "            private_sale_long_gun  private_sale_other  total_sales  \n",
       "state                                                               \n",
       "Alabama                      65.0                 4.0     287876.0  \n",
       "Alaska                       66.0                 1.0      79689.0  \n",
       "Arizona                      56.0                11.0     296945.0  \n",
       "Arkansas                     64.0                 6.0     169965.0  \n",
       "California                    0.0                 0.0    1326612.0  "
      ]
     },
     "execution_count": 19,
     "metadata": {},
     "output_type": "execute_result"
    }
   ],
   "source": [
    "# Group up everything by state and get the sum values\n",
    "sampled_df = sampled_df.groupby(sampled_df.state).sum()\n",
    "\n",
    "sampled_df.head()"
   ]
  },
  {
   "cell_type": "markdown",
   "metadata": {},
   "source": [
    "And now let's plot the `total_sales` for each state in a simple bar graph."
   ]
  },
  {
   "cell_type": "code",
   "execution_count": 20,
   "metadata": {
    "scrolled": false
   },
   "outputs": [
    {
     "data": {
      "text/plain": [
       "<matplotlib.axes._subplots.AxesSubplot at 0x23a349f3a90>"
      ]
     },
     "execution_count": 20,
     "metadata": {},
     "output_type": "execute_result"
    },
    {
     "data": {
      "image/png": "[encoded data removed]",
      "text/plain": [
       "<Figure size 1080x360 with 1 Axes>"
      ]
     },
     "metadata": {
      "needs_background": "light"
     },
     "output_type": "display_data"
    }
   ],
   "source": [
    "# plot the total sales by state\n",
    "sampled_df['total_sales'].plot(kind='bar',\n",
    "                               figsize=(15,5),\n",
    "                               title='Firearm sales for the year 2016 by state')"
   ]
  },
  {
   "cell_type": "markdown",
   "metadata": {},
   "source": [
    "This chart shows us the total number of sales by state for the year 2016.  In it we can see California topped the country as the state with the most sales absolutely dwarfing a state like Georgia, where you'd think you'd see a lot more sales (it being a southern state), but this is an unfair way to view the data since a state like California has a much higher population than Georgia, thus more people to buy guns."
   ]
  },
  {
   "cell_type": "code",
   "execution_count": 21,
   "metadata": {},
   "outputs": [
    {
     "name": "stdout",
     "output_type": "stream",
     "text": [
      "California:\t39250017\n",
      "Georgia:\t10310371\n"
     ]
    }
   ],
   "source": [
    "print(f\"California:\\t{us_census_df['California']}\\nGeorgia:\\t{us_census_df['Georgia']}\")"
   ]
  },
  {
   "cell_type": "markdown",
   "metadata": {},
   "source": [
    "To account for this we need to know what the sales are per person living in the state that year. So let's take the second dataset we cleaned that has this information and attach it to the end of the sampled data. Because both datasets have the state name as an index, the two will join up state for state."
   ]
  },
  {
   "cell_type": "code",
   "execution_count": 22,
   "metadata": {
    "scrolled": true
   },
   "outputs": [
    {
     "data": {
      "text/html": [
       "<div>\n",
       "<style scoped>\n",
       "    .dataframe tbody tr th:only-of-type {\n",
       "        vertical-align: middle;\n",
       "    }\n",
       "\n",
       "    .dataframe tbody tr th {\n",
       "        vertical-align: top;\n",
       "    }\n",
       "\n",
       "    .dataframe thead th {\n",
       "        text-align: right;\n",
       "    }\n",
       "</style>\n",
       "<table border=\"1\" class=\"dataframe\">\n",
       "  <thead>\n",
       "    <tr style=\"text-align: right;\">\n",
       "      <th></th>\n",
       "      <th>handgun</th>\n",
       "      <th>long_gun</th>\n",
       "      <th>other</th>\n",
       "      <th>multiple</th>\n",
       "      <th>private_sale_handgun</th>\n",
       "      <th>private_sale_long_gun</th>\n",
       "      <th>private_sale_other</th>\n",
       "      <th>total_sales</th>\n",
       "      <th>population</th>\n",
       "    </tr>\n",
       "    <tr>\n",
       "      <th>state</th>\n",
       "      <th></th>\n",
       "      <th></th>\n",
       "      <th></th>\n",
       "      <th></th>\n",
       "      <th></th>\n",
       "      <th></th>\n",
       "      <th></th>\n",
       "      <th></th>\n",
       "      <th></th>\n",
       "    </tr>\n",
       "  </thead>\n",
       "  <tbody>\n",
       "    <tr>\n",
       "      <th>Alabama</th>\n",
       "      <td>153123.0</td>\n",
       "      <td>121963.0</td>\n",
       "      <td>6104.0</td>\n",
       "      <td>6545</td>\n",
       "      <td>72.0</td>\n",
       "      <td>65.0</td>\n",
       "      <td>4.0</td>\n",
       "      <td>287876.0</td>\n",
       "      <td>4863300.0</td>\n",
       "    </tr>\n",
       "    <tr>\n",
       "      <th>Alaska</th>\n",
       "      <td>37491.0</td>\n",
       "      <td>36887.0</td>\n",
       "      <td>2889.0</td>\n",
       "      <td>2316</td>\n",
       "      <td>39.0</td>\n",
       "      <td>66.0</td>\n",
       "      <td>1.0</td>\n",
       "      <td>79689.0</td>\n",
       "      <td>741894.0</td>\n",
       "    </tr>\n",
       "    <tr>\n",
       "      <th>Arizona</th>\n",
       "      <td>166784.0</td>\n",
       "      <td>108988.0</td>\n",
       "      <td>13122.0</td>\n",
       "      <td>7908</td>\n",
       "      <td>76.0</td>\n",
       "      <td>56.0</td>\n",
       "      <td>11.0</td>\n",
       "      <td>296945.0</td>\n",
       "      <td>6931071.0</td>\n",
       "    </tr>\n",
       "    <tr>\n",
       "      <th>Arkansas</th>\n",
       "      <td>80244.0</td>\n",
       "      <td>82120.0</td>\n",
       "      <td>3059.0</td>\n",
       "      <td>4400</td>\n",
       "      <td>72.0</td>\n",
       "      <td>64.0</td>\n",
       "      <td>6.0</td>\n",
       "      <td>169965.0</td>\n",
       "      <td>2988248.0</td>\n",
       "    </tr>\n",
       "    <tr>\n",
       "      <th>California</th>\n",
       "      <td>560355.0</td>\n",
       "      <td>554550.0</td>\n",
       "      <td>211707.0</td>\n",
       "      <td>0</td>\n",
       "      <td>0.0</td>\n",
       "      <td>0.0</td>\n",
       "      <td>0.0</td>\n",
       "      <td>1326612.0</td>\n",
       "      <td>39250017.0</td>\n",
       "    </tr>\n",
       "  </tbody>\n",
       "</table>\n",
       "</div>"
      ],
      "text/plain": [
       "             handgun  long_gun     other  multiple  private_sale_handgun  \\\n",
       "state                                                                      \n",
       "Alabama     153123.0  121963.0    6104.0      6545                  72.0   \n",
       "Alaska       37491.0   36887.0    2889.0      2316                  39.0   \n",
       "Arizona     166784.0  108988.0   13122.0      7908                  76.0   \n",
       "Arkansas     80244.0   82120.0    3059.0      4400                  72.0   \n",
       "California  560355.0  554550.0  211707.0         0                   0.0   \n",
       "\n",
       "            private_sale_long_gun  private_sale_other  total_sales  population  \n",
       "state                                                                           \n",
       "Alabama                      65.0                 4.0     287876.0   4863300.0  \n",
       "Alaska                       66.0                 1.0      79689.0    741894.0  \n",
       "Arizona                      56.0                11.0     296945.0   6931071.0  \n",
       "Arkansas                     64.0                 6.0     169965.0   2988248.0  \n",
       "California                    0.0                 0.0    1326612.0  39250017.0  "
      ]
     },
     "execution_count": 22,
     "metadata": {},
     "output_type": "execute_result"
    }
   ],
   "source": [
    "# add the state population from the us_census_df dataframe\n",
    "sampled_df = sampled_df.join(us_census_df)\n",
    "sampled_df.head()"
   ]
  },
  {
   "cell_type": "markdown",
   "metadata": {},
   "source": [
    "Perfect! Now let's do some simple math to get the number of sales per person in the state and store that in a new column we can use to plot"
   ]
  },
  {
   "cell_type": "code",
   "execution_count": 23,
   "metadata": {
    "scrolled": false
   },
   "outputs": [
    {
     "data": {
      "text/plain": [
       "state\n",
       "Alaska                  0.107413\n",
       "South Dakota            0.105615\n",
       "West Virginia           0.099557\n",
       "Montana                 0.095199\n",
       "Wyoming                 0.087392\n",
       "New Hampshire           0.086589\n",
       "Missouri                0.083420\n",
       "Tennessee               0.082005\n",
       "Oklahoma                0.081809\n",
       "Colorado                0.081709\n",
       "Oregon                  0.078600\n",
       "Maine                   0.075955\n",
       "North Dakota            0.074354\n",
       "Mississippi             0.074039\n",
       "Indiana                 0.072759\n",
       "Louisiana               0.070683\n",
       "New Mexico              0.064293\n",
       "Idaho                   0.063791\n",
       "Vermont                 0.063020\n",
       "Pennsylvania            0.062626\n",
       "Wisconsin               0.061710\n",
       "Virginia                0.061638\n",
       "Alabama                 0.059194\n",
       "Kentucky                0.058772\n",
       "Ohio                    0.058476\n",
       "Arkansas                0.056878\n",
       "Kansas                  0.056594\n",
       "Washington              0.056177\n",
       "Minnesota               0.053082\n",
       "Delaware                0.052979\n",
       "Florida                 0.050777\n",
       "Connecticut             0.047151\n",
       "South Carolina          0.046612\n",
       "Arizona                 0.042843\n",
       "Texas                   0.042822\n",
       "Illinois                0.042323\n",
       "Nevada                  0.037881\n",
       "Utah                    0.034819\n",
       "California              0.033799\n",
       "Georgia                 0.032700\n",
       "Michigan                0.030543\n",
       "Rhode Island            0.026069\n",
       "Maryland                0.021012\n",
       "North Carolina          0.020340\n",
       "Massachusetts           0.018857\n",
       "New York                0.017853\n",
       "Nebraska                0.014979\n",
       "New Jersey              0.013623\n",
       "Iowa                    0.012291\n",
       "Hawaii                  0.000000\n",
       "District of Columbia         NaN\n",
       "Guam                         NaN\n",
       "Mariana Islands              NaN\n",
       "Puerto Rico                  NaN\n",
       "Virgin Islands               NaN\n",
       "Name: sales_per_capita, dtype: float64"
      ]
     },
     "execution_count": 23,
     "metadata": {},
     "output_type": "execute_result"
    }
   ],
   "source": [
    "sampled_df['sales_per_capita'] = sampled_df.total_sales / sampled_df.population\n",
    "sampled_df.sales_per_capita.sort_values(ascending=False)"
   ]
  },
  {
   "cell_type": "markdown",
   "metadata": {},
   "source": [
    "Looks like there were a few states in the FBI data that weren't in the us_census dataframe, so let's go ahead and trim those off before plotting our chart"
   ]
  },
  {
   "cell_type": "code",
   "execution_count": 24,
   "metadata": {},
   "outputs": [
    {
     "data": {
      "text/plain": [
       "<matplotlib.axes._subplots.AxesSubplot at 0x23a3490e5f8>"
      ]
     },
     "execution_count": 24,
     "metadata": {},
     "output_type": "execute_result"
    },
    {
     "data": {
      "image/png": "[encoded data removed]",
      "text/plain": [
       "<Figure size 1080x360 with 1 Axes>"
      ]
     },
     "metadata": {
      "needs_background": "light"
     },
     "output_type": "display_data"
    }
   ],
   "source": [
    "# dropping the states with NaNs\n",
    "sampled_df.dropna(inplace=True)\n",
    "\n",
    "# plot the chart based on the sales_per_capita column\n",
    "sampled_df.sales_per_capita.sort_values(ascending=False).plot(kind='bar',\n",
    "                                                         figsize=(15,5),\n",
    "                                                         title='Firearm sales per capita by state for the year 2016')"
   ]
  },
  {
   "cell_type": "markdown",
   "metadata": {},
   "source": [
    "Now we see the chart showing that per person `California` has much fewer sales than many other states. So even though `California` has the sum total highest amount of sales for the year 2016, a higher portion of the population in `Alaska` actually owns a firearm."
   ]
  },
  {
   "cell_type": "markdown",
   "metadata": {},
   "source": [
    "## Limitations\n",
    "\n",
    "The greatest challenge I experienced in this project was what's known in the gaming community as 'analysis paralysis'.  When working with data it can be an extremely daunting trying to figure out how to best approach the task to answer the question at hand. One of the best steps to help with this is trimming the data. Getting rid of everything that isn't necessary to answering the question proposed can be a useful first step. However, cutting away too much data can limit your ability to explore freely later on. This is always a balance each individual analyst must make for themselves."
   ]
  },
  {
   "cell_type": "markdown",
   "metadata": {},
   "source": [
    "<a id='conclusions'></a>\n",
    "## Conclusions\n",
    "\n",
    "##### What is the overall trend of gun purchases at a national level over time?\n",
    "While it *appears* from the data that there is a trend of more firearms being sold each year than the previous, without having the corresponding data to know how the population has changed over that same period we can't conclusively that we as a nation are buying more guns.  It's possible that gun purchases have just increased with the population. Additionally, without data to cross-analyze we're unable to draw any correlations to the nature of what might have driven the changes.  We can definitely say that there are more guns being sold, which is an answer to the question we proposed, but it should be made with an asterisk due to the caveat.\n",
    "\n",
    "##### Which state has the highest firearm sales per capita for the given time period (2016)?\n",
    "For the year 2016 it looks like `Alaska` takes the award for most fireams sold per person, but just barely. By and large it appears as though the states with far more rurual area tend to have the highest penetration of firearm owning people. This makes sense logically as those would also be the places where activities like hunting would be more in line with social values of the people living there."
   ]
  },
  {
   "cell_type": "code",
   "execution_count": null,
   "metadata": {},
   "outputs": [],
   "source": []
  }
 ],
 "metadata": {
  "kernelspec": {
   "display_name": "Python 3",
   "language": "python",
   "name": "python3"
  },
  "language_info": {
   "codemirror_mode": {
    "name": "ipython",
    "version": 3
   },
   "file_extension": ".py",
   "mimetype": "text/x-python",
   "name": "python",
   "nbconvert_exporter": "python",
   "pygments_lexer": "ipython3",
   "version": "3.6.6"
  }
 },
 "nbformat": 4,
 "nbformat_minor": 2
}
