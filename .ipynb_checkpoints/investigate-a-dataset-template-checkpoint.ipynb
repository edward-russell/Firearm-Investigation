{
 "cells": [
  {
   "cell_type": "markdown",
   "metadata": {
    "slideshow": {
     "slide_type": "slide"
    }
   },
   "source": [
    "# Project: Investigation of firearm sales in the United States\n",
    "\n",
    "## Table of Contents\n",
    "<ul>\n",
    "<li><a href=\"#intro\">Introduction</a></li>\n",
    "<li><a href=\"#wrangling\">Data Wrangling</a></li>\n",
    "<li><a href=\"#eda\">Exploratory Data Analysis</a></li>\n",
    "<li><a href=\"#conclusions\">Conclusions</a></li>\n",
    "</ul>"
   ]
  },
  {
   "cell_type": "markdown",
   "metadata": {},
   "source": [
    "<a id='intro'></a>\n",
    "## Introduction\n",
    "\n",
    "Using data provided by the **FBI's National Criminal Instant Background Check System** (NICS), and the **US Census** fact sheet I intend to investigate trends in gun sales both at a national level, and at a state level.\n",
    "\n",
    "1. What is the overall trend of gun purchases at a national level over time?\n",
    "2. Which state has the highest firearm sales per capita for the given time period (2016)?"
   ]
  },
  {
   "cell_type": "code",
   "execution_count": 1,
   "metadata": {},
   "outputs": [],
   "source": [
    "# initial imports to set up the notebook\n",
    "import numpy as np\n",
    "import pandas as pd\n",
    "import matplotlib.pyplot as plt\n",
    "%matplotlib inline"
   ]
  },
  {
   "cell_type": "markdown",
   "metadata": {},
   "source": [
    "<a id='wrangling'></a>\n",
    "## Data Wrangling\n",
    "\n",
    "### General Properties"
   ]
  },
  {
   "cell_type": "code",
   "execution_count": 2,
   "metadata": {},
   "outputs": [],
   "source": [
    "# load the data files\n",
    "gun_data_df = pd.read_excel('data/gun_data.xlsx')\n",
    "us_census_df = pd.read_csv('data/U.S. Census Data.csv')"
   ]
  },
  {
   "cell_type": "code",
   "execution_count": 3,
   "metadata": {
    "scrolled": true
   },
   "outputs": [
    {
     "data": {
      "text/html": [
       "<div>\n",
       "<style scoped>\n",
       "    .dataframe tbody tr th:only-of-type {\n",
       "        vertical-align: middle;\n",
       "    }\n",
       "\n",
       "    .dataframe tbody tr th {\n",
       "        vertical-align: top;\n",
       "    }\n",
       "\n",
       "    .dataframe thead th {\n",
       "        text-align: right;\n",
       "    }\n",
       "</style>\n",
       "<table border=\"1\" class=\"dataframe\">\n",
       "  <thead>\n",
       "    <tr style=\"text-align: right;\">\n",
       "      <th></th>\n",
       "      <th>month</th>\n",
       "      <th>state</th>\n",
       "      <th>permit</th>\n",
       "      <th>permit_recheck</th>\n",
       "      <th>handgun</th>\n",
       "      <th>long_gun</th>\n",
       "      <th>other</th>\n",
       "      <th>multiple</th>\n",
       "      <th>admin</th>\n",
       "      <th>prepawn_handgun</th>\n",
       "      <th>...</th>\n",
       "      <th>returned_other</th>\n",
       "      <th>rentals_handgun</th>\n",
       "      <th>rentals_long_gun</th>\n",
       "      <th>private_sale_handgun</th>\n",
       "      <th>private_sale_long_gun</th>\n",
       "      <th>private_sale_other</th>\n",
       "      <th>return_to_seller_handgun</th>\n",
       "      <th>return_to_seller_long_gun</th>\n",
       "      <th>return_to_seller_other</th>\n",
       "      <th>totals</th>\n",
       "    </tr>\n",
       "  </thead>\n",
       "  <tbody>\n",
       "    <tr>\n",
       "      <th>0</th>\n",
       "      <td>2017-09</td>\n",
       "      <td>Alabama</td>\n",
       "      <td>16717.0</td>\n",
       "      <td>0.0</td>\n",
       "      <td>5734.0</td>\n",
       "      <td>6320.0</td>\n",
       "      <td>221.0</td>\n",
       "      <td>317</td>\n",
       "      <td>0.0</td>\n",
       "      <td>15.0</td>\n",
       "      <td>...</td>\n",
       "      <td>0.0</td>\n",
       "      <td>0.0</td>\n",
       "      <td>0.0</td>\n",
       "      <td>9.0</td>\n",
       "      <td>16.0</td>\n",
       "      <td>3.0</td>\n",
       "      <td>0.0</td>\n",
       "      <td>0.0</td>\n",
       "      <td>3.0</td>\n",
       "      <td>32019</td>\n",
       "    </tr>\n",
       "    <tr>\n",
       "      <th>1</th>\n",
       "      <td>2017-09</td>\n",
       "      <td>Alaska</td>\n",
       "      <td>209.0</td>\n",
       "      <td>2.0</td>\n",
       "      <td>2320.0</td>\n",
       "      <td>2930.0</td>\n",
       "      <td>219.0</td>\n",
       "      <td>160</td>\n",
       "      <td>0.0</td>\n",
       "      <td>5.0</td>\n",
       "      <td>...</td>\n",
       "      <td>0.0</td>\n",
       "      <td>0.0</td>\n",
       "      <td>0.0</td>\n",
       "      <td>17.0</td>\n",
       "      <td>24.0</td>\n",
       "      <td>1.0</td>\n",
       "      <td>0.0</td>\n",
       "      <td>0.0</td>\n",
       "      <td>0.0</td>\n",
       "      <td>6303</td>\n",
       "    </tr>\n",
       "    <tr>\n",
       "      <th>2</th>\n",
       "      <td>2017-09</td>\n",
       "      <td>Arizona</td>\n",
       "      <td>5069.0</td>\n",
       "      <td>382.0</td>\n",
       "      <td>11063.0</td>\n",
       "      <td>7946.0</td>\n",
       "      <td>920.0</td>\n",
       "      <td>631</td>\n",
       "      <td>0.0</td>\n",
       "      <td>13.0</td>\n",
       "      <td>...</td>\n",
       "      <td>0.0</td>\n",
       "      <td>0.0</td>\n",
       "      <td>0.0</td>\n",
       "      <td>38.0</td>\n",
       "      <td>12.0</td>\n",
       "      <td>2.0</td>\n",
       "      <td>0.0</td>\n",
       "      <td>0.0</td>\n",
       "      <td>0.0</td>\n",
       "      <td>28394</td>\n",
       "    </tr>\n",
       "    <tr>\n",
       "      <th>3</th>\n",
       "      <td>2017-09</td>\n",
       "      <td>Arkansas</td>\n",
       "      <td>2935.0</td>\n",
       "      <td>632.0</td>\n",
       "      <td>4347.0</td>\n",
       "      <td>6063.0</td>\n",
       "      <td>165.0</td>\n",
       "      <td>366</td>\n",
       "      <td>51.0</td>\n",
       "      <td>12.0</td>\n",
       "      <td>...</td>\n",
       "      <td>0.0</td>\n",
       "      <td>0.0</td>\n",
       "      <td>0.0</td>\n",
       "      <td>13.0</td>\n",
       "      <td>23.0</td>\n",
       "      <td>0.0</td>\n",
       "      <td>0.0</td>\n",
       "      <td>2.0</td>\n",
       "      <td>1.0</td>\n",
       "      <td>17747</td>\n",
       "    </tr>\n",
       "    <tr>\n",
       "      <th>4</th>\n",
       "      <td>2017-09</td>\n",
       "      <td>California</td>\n",
       "      <td>57839.0</td>\n",
       "      <td>0.0</td>\n",
       "      <td>37165.0</td>\n",
       "      <td>24581.0</td>\n",
       "      <td>2984.0</td>\n",
       "      <td>0</td>\n",
       "      <td>0.0</td>\n",
       "      <td>0.0</td>\n",
       "      <td>...</td>\n",
       "      <td>0.0</td>\n",
       "      <td>0.0</td>\n",
       "      <td>0.0</td>\n",
       "      <td>0.0</td>\n",
       "      <td>0.0</td>\n",
       "      <td>0.0</td>\n",
       "      <td>0.0</td>\n",
       "      <td>0.0</td>\n",
       "      <td>0.0</td>\n",
       "      <td>123506</td>\n",
       "    </tr>\n",
       "  </tbody>\n",
       "</table>\n",
       "<p>5 rows × 27 columns</p>\n",
       "</div>"
      ],
      "text/plain": [
       "     month       state   permit  permit_recheck  handgun  long_gun   other  \\\n",
       "0  2017-09     Alabama  16717.0             0.0   5734.0    6320.0   221.0   \n",
       "1  2017-09      Alaska    209.0             2.0   2320.0    2930.0   219.0   \n",
       "2  2017-09     Arizona   5069.0           382.0  11063.0    7946.0   920.0   \n",
       "3  2017-09    Arkansas   2935.0           632.0   4347.0    6063.0   165.0   \n",
       "4  2017-09  California  57839.0             0.0  37165.0   24581.0  2984.0   \n",
       "\n",
       "   multiple  admin  prepawn_handgun   ...    returned_other  rentals_handgun  \\\n",
       "0       317    0.0             15.0   ...               0.0              0.0   \n",
       "1       160    0.0              5.0   ...               0.0              0.0   \n",
       "2       631    0.0             13.0   ...               0.0              0.0   \n",
       "3       366   51.0             12.0   ...               0.0              0.0   \n",
       "4         0    0.0              0.0   ...               0.0              0.0   \n",
       "\n",
       "   rentals_long_gun  private_sale_handgun  private_sale_long_gun  \\\n",
       "0               0.0                   9.0                   16.0   \n",
       "1               0.0                  17.0                   24.0   \n",
       "2               0.0                  38.0                   12.0   \n",
       "3               0.0                  13.0                   23.0   \n",
       "4               0.0                   0.0                    0.0   \n",
       "\n",
       "   private_sale_other  return_to_seller_handgun  return_to_seller_long_gun  \\\n",
       "0                 3.0                       0.0                        0.0   \n",
       "1                 1.0                       0.0                        0.0   \n",
       "2                 2.0                       0.0                        0.0   \n",
       "3                 0.0                       0.0                        2.0   \n",
       "4                 0.0                       0.0                        0.0   \n",
       "\n",
       "   return_to_seller_other  totals  \n",
       "0                     3.0   32019  \n",
       "1                     0.0    6303  \n",
       "2                     0.0   28394  \n",
       "3                     1.0   17747  \n",
       "4                     0.0  123506  \n",
       "\n",
       "[5 rows x 27 columns]"
      ]
     },
     "execution_count": 3,
     "metadata": {},
     "output_type": "execute_result"
    }
   ],
   "source": [
    "# Print the first five rows to get an overview of what the data looks like\n",
    "gun_data_df.head()"
   ]
  },
  {
   "cell_type": "code",
   "execution_count": 4,
   "metadata": {
    "scrolled": true
   },
   "outputs": [
    {
     "data": {
      "text/html": [
       "<div>\n",
       "<style scoped>\n",
       "    .dataframe tbody tr th:only-of-type {\n",
       "        vertical-align: middle;\n",
       "    }\n",
       "\n",
       "    .dataframe tbody tr th {\n",
       "        vertical-align: top;\n",
       "    }\n",
       "\n",
       "    .dataframe thead th {\n",
       "        text-align: right;\n",
       "    }\n",
       "</style>\n",
       "<table border=\"1\" class=\"dataframe\">\n",
       "  <thead>\n",
       "    <tr style=\"text-align: right;\">\n",
       "      <th></th>\n",
       "      <th>month</th>\n",
       "      <th>state</th>\n",
       "      <th>permit</th>\n",
       "      <th>permit_recheck</th>\n",
       "      <th>handgun</th>\n",
       "      <th>long_gun</th>\n",
       "      <th>other</th>\n",
       "      <th>multiple</th>\n",
       "      <th>admin</th>\n",
       "      <th>prepawn_handgun</th>\n",
       "      <th>...</th>\n",
       "      <th>returned_other</th>\n",
       "      <th>rentals_handgun</th>\n",
       "      <th>rentals_long_gun</th>\n",
       "      <th>private_sale_handgun</th>\n",
       "      <th>private_sale_long_gun</th>\n",
       "      <th>private_sale_other</th>\n",
       "      <th>return_to_seller_handgun</th>\n",
       "      <th>return_to_seller_long_gun</th>\n",
       "      <th>return_to_seller_other</th>\n",
       "      <th>totals</th>\n",
       "    </tr>\n",
       "  </thead>\n",
       "  <tbody>\n",
       "    <tr>\n",
       "      <th>12480</th>\n",
       "      <td>1998-11</td>\n",
       "      <td>Virginia</td>\n",
       "      <td>0.0</td>\n",
       "      <td>NaN</td>\n",
       "      <td>14.0</td>\n",
       "      <td>2.0</td>\n",
       "      <td>NaN</td>\n",
       "      <td>8</td>\n",
       "      <td>0.0</td>\n",
       "      <td>NaN</td>\n",
       "      <td>...</td>\n",
       "      <td>NaN</td>\n",
       "      <td>NaN</td>\n",
       "      <td>NaN</td>\n",
       "      <td>NaN</td>\n",
       "      <td>NaN</td>\n",
       "      <td>NaN</td>\n",
       "      <td>NaN</td>\n",
       "      <td>NaN</td>\n",
       "      <td>NaN</td>\n",
       "      <td>24</td>\n",
       "    </tr>\n",
       "    <tr>\n",
       "      <th>12481</th>\n",
       "      <td>1998-11</td>\n",
       "      <td>Washington</td>\n",
       "      <td>1.0</td>\n",
       "      <td>NaN</td>\n",
       "      <td>65.0</td>\n",
       "      <td>286.0</td>\n",
       "      <td>NaN</td>\n",
       "      <td>8</td>\n",
       "      <td>1.0</td>\n",
       "      <td>NaN</td>\n",
       "      <td>...</td>\n",
       "      <td>NaN</td>\n",
       "      <td>NaN</td>\n",
       "      <td>NaN</td>\n",
       "      <td>NaN</td>\n",
       "      <td>NaN</td>\n",
       "      <td>NaN</td>\n",
       "      <td>NaN</td>\n",
       "      <td>NaN</td>\n",
       "      <td>NaN</td>\n",
       "      <td>361</td>\n",
       "    </tr>\n",
       "    <tr>\n",
       "      <th>12482</th>\n",
       "      <td>1998-11</td>\n",
       "      <td>West Virginia</td>\n",
       "      <td>3.0</td>\n",
       "      <td>NaN</td>\n",
       "      <td>149.0</td>\n",
       "      <td>251.0</td>\n",
       "      <td>NaN</td>\n",
       "      <td>5</td>\n",
       "      <td>0.0</td>\n",
       "      <td>NaN</td>\n",
       "      <td>...</td>\n",
       "      <td>NaN</td>\n",
       "      <td>NaN</td>\n",
       "      <td>NaN</td>\n",
       "      <td>NaN</td>\n",
       "      <td>NaN</td>\n",
       "      <td>NaN</td>\n",
       "      <td>NaN</td>\n",
       "      <td>NaN</td>\n",
       "      <td>NaN</td>\n",
       "      <td>408</td>\n",
       "    </tr>\n",
       "    <tr>\n",
       "      <th>12483</th>\n",
       "      <td>1998-11</td>\n",
       "      <td>Wisconsin</td>\n",
       "      <td>0.0</td>\n",
       "      <td>NaN</td>\n",
       "      <td>25.0</td>\n",
       "      <td>214.0</td>\n",
       "      <td>NaN</td>\n",
       "      <td>2</td>\n",
       "      <td>0.0</td>\n",
       "      <td>NaN</td>\n",
       "      <td>...</td>\n",
       "      <td>NaN</td>\n",
       "      <td>NaN</td>\n",
       "      <td>NaN</td>\n",
       "      <td>NaN</td>\n",
       "      <td>NaN</td>\n",
       "      <td>NaN</td>\n",
       "      <td>NaN</td>\n",
       "      <td>NaN</td>\n",
       "      <td>NaN</td>\n",
       "      <td>241</td>\n",
       "    </tr>\n",
       "    <tr>\n",
       "      <th>12484</th>\n",
       "      <td>1998-11</td>\n",
       "      <td>Wyoming</td>\n",
       "      <td>8.0</td>\n",
       "      <td>NaN</td>\n",
       "      <td>45.0</td>\n",
       "      <td>49.0</td>\n",
       "      <td>NaN</td>\n",
       "      <td>5</td>\n",
       "      <td>0.0</td>\n",
       "      <td>NaN</td>\n",
       "      <td>...</td>\n",
       "      <td>NaN</td>\n",
       "      <td>NaN</td>\n",
       "      <td>NaN</td>\n",
       "      <td>NaN</td>\n",
       "      <td>NaN</td>\n",
       "      <td>NaN</td>\n",
       "      <td>NaN</td>\n",
       "      <td>NaN</td>\n",
       "      <td>NaN</td>\n",
       "      <td>107</td>\n",
       "    </tr>\n",
       "  </tbody>\n",
       "</table>\n",
       "<p>5 rows × 27 columns</p>\n",
       "</div>"
      ],
      "text/plain": [
       "         month          state  permit  permit_recheck  handgun  long_gun  \\\n",
       "12480  1998-11       Virginia     0.0             NaN     14.0       2.0   \n",
       "12481  1998-11     Washington     1.0             NaN     65.0     286.0   \n",
       "12482  1998-11  West Virginia     3.0             NaN    149.0     251.0   \n",
       "12483  1998-11      Wisconsin     0.0             NaN     25.0     214.0   \n",
       "12484  1998-11        Wyoming     8.0             NaN     45.0      49.0   \n",
       "\n",
       "       other  multiple  admin  prepawn_handgun   ...    returned_other  \\\n",
       "12480    NaN         8    0.0              NaN   ...               NaN   \n",
       "12481    NaN         8    1.0              NaN   ...               NaN   \n",
       "12482    NaN         5    0.0              NaN   ...               NaN   \n",
       "12483    NaN         2    0.0              NaN   ...               NaN   \n",
       "12484    NaN         5    0.0              NaN   ...               NaN   \n",
       "\n",
       "       rentals_handgun  rentals_long_gun  private_sale_handgun  \\\n",
       "12480              NaN               NaN                   NaN   \n",
       "12481              NaN               NaN                   NaN   \n",
       "12482              NaN               NaN                   NaN   \n",
       "12483              NaN               NaN                   NaN   \n",
       "12484              NaN               NaN                   NaN   \n",
       "\n",
       "       private_sale_long_gun  private_sale_other  return_to_seller_handgun  \\\n",
       "12480                    NaN                 NaN                       NaN   \n",
       "12481                    NaN                 NaN                       NaN   \n",
       "12482                    NaN                 NaN                       NaN   \n",
       "12483                    NaN                 NaN                       NaN   \n",
       "12484                    NaN                 NaN                       NaN   \n",
       "\n",
       "       return_to_seller_long_gun  return_to_seller_other  totals  \n",
       "12480                        NaN                     NaN      24  \n",
       "12481                        NaN                     NaN     361  \n",
       "12482                        NaN                     NaN     408  \n",
       "12483                        NaN                     NaN     241  \n",
       "12484                        NaN                     NaN     107  \n",
       "\n",
       "[5 rows x 27 columns]"
      ]
     },
     "execution_count": 4,
     "metadata": {},
     "output_type": "execute_result"
    }
   ],
   "source": [
    "gun_data_df.tail()"
   ]
  },
  {
   "cell_type": "code",
   "execution_count": 5,
   "metadata": {
    "scrolled": true
   },
   "outputs": [
    {
     "data": {
      "text/plain": [
       "Index(['month', 'state', 'permit', 'permit_recheck', 'handgun', 'long_gun',\n",
       "       'other', 'multiple', 'admin', 'prepawn_handgun', 'prepawn_long_gun',\n",
       "       'prepawn_other', 'redemption_handgun', 'redemption_long_gun',\n",
       "       'redemption_other', 'returned_handgun', 'returned_long_gun',\n",
       "       'returned_other', 'rentals_handgun', 'rentals_long_gun',\n",
       "       'private_sale_handgun', 'private_sale_long_gun', 'private_sale_other',\n",
       "       'return_to_seller_handgun', 'return_to_seller_long_gun',\n",
       "       'return_to_seller_other', 'totals'],\n",
       "      dtype='object')"
      ]
     },
     "execution_count": 5,
     "metadata": {},
     "output_type": "execute_result"
    }
   ],
   "source": [
    "gun_data_df.columns"
   ]
  },
  {
   "cell_type": "markdown",
   "metadata": {},
   "source": [
    "Since the only columns that are relevant to our investiation are: `month`, `state`, `handgun`, `long_gun`, `other`, `multiple`, `private_sale_handgun`, `private_sale_long_gun`, and `private_sale_other` we'll drop the other columns when cleaning. Also, we'll clip off both of the incomplete years at both ends so that when we plot by year we have full years."
   ]
  },
  {
   "cell_type": "markdown",
   "metadata": {},
   "source": [
    "#### Checking for missing values\n",
    "The first thing to check with any dataset is to ensure you're working with uniform data. First we'll check the `month` column of the `gun_data_df` dataframe as that is likely going to be what we're going to aggregate against, if there are any missing values for the `month`, we'll fill it in."
   ]
  },
  {
   "cell_type": "code",
   "execution_count": 6,
   "metadata": {},
   "outputs": [
    {
     "data": {
      "text/plain": [
       "0"
      ]
     },
     "execution_count": 6,
     "metadata": {},
     "output_type": "execute_result"
    }
   ],
   "source": [
    "gun_data_df.month[gun_data_df.month.isnull()].count()"
   ]
  },
  {
   "cell_type": "code",
   "execution_count": 7,
   "metadata": {
    "scrolled": false
   },
   "outputs": [
    {
     "data": {
      "text/plain": [
       "month                        12485\n",
       "state                        12485\n",
       "permit                       12461\n",
       "permit_recheck                1100\n",
       "handgun                      12465\n",
       "long_gun                     12466\n",
       "other                         5500\n",
       "multiple                     12485\n",
       "admin                        12462\n",
       "prepawn_handgun              10542\n",
       "prepawn_long_gun             10540\n",
       "prepawn_other                 5115\n",
       "redemption_handgun           10545\n",
       "redemption_long_gun          10544\n",
       "redemption_other              5115\n",
       "returned_handgun              2200\n",
       "returned_long_gun             2145\n",
       "returned_other                1815\n",
       "rentals_handgun                990\n",
       "rentals_long_gun               825\n",
       "private_sale_handgun          2750\n",
       "private_sale_long_gun         2750\n",
       "private_sale_other            2750\n",
       "return_to_seller_handgun      2475\n",
       "return_to_seller_long_gun     2750\n",
       "return_to_seller_other        2255\n",
       "totals                       12485\n",
       "dtype: int64"
      ]
     },
     "execution_count": 7,
     "metadata": {},
     "output_type": "execute_result"
    }
   ],
   "source": [
    "# Since we now know there are no missing months, any column with a lower count than month has missing values\n",
    "gun_data_df.count()"
   ]
  },
  {
   "cell_type": "markdown",
   "metadata": {},
   "source": [
    "#### Checking the data types\n",
    "Next up we want to make sure each column in the dataframe accurately represents the value for that location"
   ]
  },
  {
   "cell_type": "code",
   "execution_count": 8,
   "metadata": {
    "scrolled": false
   },
   "outputs": [
    {
     "data": {
      "text/plain": [
       "month                         object\n",
       "state                         object\n",
       "permit                       float64\n",
       "permit_recheck               float64\n",
       "handgun                      float64\n",
       "long_gun                     float64\n",
       "other                        float64\n",
       "multiple                       int64\n",
       "admin                        float64\n",
       "prepawn_handgun              float64\n",
       "prepawn_long_gun             float64\n",
       "prepawn_other                float64\n",
       "redemption_handgun           float64\n",
       "redemption_long_gun          float64\n",
       "redemption_other             float64\n",
       "returned_handgun             float64\n",
       "returned_long_gun            float64\n",
       "returned_other               float64\n",
       "rentals_handgun              float64\n",
       "rentals_long_gun             float64\n",
       "private_sale_handgun         float64\n",
       "private_sale_long_gun        float64\n",
       "private_sale_other           float64\n",
       "return_to_seller_handgun     float64\n",
       "return_to_seller_long_gun    float64\n",
       "return_to_seller_other       float64\n",
       "totals                         int64\n",
       "dtype: object"
      ]
     },
     "execution_count": 8,
     "metadata": {},
     "output_type": "execute_result"
    }
   ],
   "source": [
    "# Check the dtypes of each column to ensure they make sense for what they represent\n",
    "gun_data_df.dtypes"
   ]
  },
  {
   "cell_type": "markdown",
   "metadata": {},
   "source": [
    "From this we can see that the `month` column is currently a `string`, and many of the other numeric columns are `float`s when they could be `int`s.  Both of which we will address in the cleaning steps below, but first let's check out the **US Census** data to see what needs to be cleaned up there."
   ]
  },
  {
   "cell_type": "code",
   "execution_count": 9,
   "metadata": {
    "scrolled": false
   },
   "outputs": [
    {
     "data": {
      "text/html": [
       "<div>\n",
       "<style scoped>\n",
       "    .dataframe tbody tr th:only-of-type {\n",
       "        vertical-align: middle;\n",
       "    }\n",
       "\n",
       "    .dataframe tbody tr th {\n",
       "        vertical-align: top;\n",
       "    }\n",
       "\n",
       "    .dataframe thead th {\n",
       "        text-align: right;\n",
       "    }\n",
       "</style>\n",
       "<table border=\"1\" class=\"dataframe\">\n",
       "  <thead>\n",
       "    <tr style=\"text-align: right;\">\n",
       "      <th></th>\n",
       "      <th>Fact</th>\n",
       "      <th>Fact Note</th>\n",
       "      <th>Alabama</th>\n",
       "      <th>Alaska</th>\n",
       "      <th>Arizona</th>\n",
       "      <th>Arkansas</th>\n",
       "      <th>California</th>\n",
       "      <th>Colorado</th>\n",
       "      <th>Connecticut</th>\n",
       "      <th>Delaware</th>\n",
       "      <th>...</th>\n",
       "      <th>South Dakota</th>\n",
       "      <th>Tennessee</th>\n",
       "      <th>Texas</th>\n",
       "      <th>Utah</th>\n",
       "      <th>Vermont</th>\n",
       "      <th>Virginia</th>\n",
       "      <th>Washington</th>\n",
       "      <th>West Virginia</th>\n",
       "      <th>Wisconsin</th>\n",
       "      <th>Wyoming</th>\n",
       "    </tr>\n",
       "  </thead>\n",
       "  <tbody>\n",
       "    <tr>\n",
       "      <th>0</th>\n",
       "      <td>Population estimates, July 1, 2016,  (V2016)</td>\n",
       "      <td>NaN</td>\n",
       "      <td>4,863,300</td>\n",
       "      <td>741,894</td>\n",
       "      <td>6,931,071</td>\n",
       "      <td>2,988,248</td>\n",
       "      <td>39,250,017</td>\n",
       "      <td>5,540,545</td>\n",
       "      <td>3,576,452</td>\n",
       "      <td>952,065</td>\n",
       "      <td>...</td>\n",
       "      <td>865454</td>\n",
       "      <td>6651194</td>\n",
       "      <td>27,862,596</td>\n",
       "      <td>3,051,217</td>\n",
       "      <td>624,594</td>\n",
       "      <td>8,411,808</td>\n",
       "      <td>7,288,000</td>\n",
       "      <td>1,831,102</td>\n",
       "      <td>5,778,708</td>\n",
       "      <td>585,501</td>\n",
       "    </tr>\n",
       "    <tr>\n",
       "      <th>1</th>\n",
       "      <td>Population estimates base, April 1, 2010,  (V2...</td>\n",
       "      <td>NaN</td>\n",
       "      <td>4,780,131</td>\n",
       "      <td>710,249</td>\n",
       "      <td>6,392,301</td>\n",
       "      <td>2,916,025</td>\n",
       "      <td>37,254,522</td>\n",
       "      <td>5,029,324</td>\n",
       "      <td>3,574,114</td>\n",
       "      <td>897,936</td>\n",
       "      <td>...</td>\n",
       "      <td>814195</td>\n",
       "      <td>6346298</td>\n",
       "      <td>25,146,100</td>\n",
       "      <td>2,763,888</td>\n",
       "      <td>625,741</td>\n",
       "      <td>8,001,041</td>\n",
       "      <td>6,724,545</td>\n",
       "      <td>1,853,011</td>\n",
       "      <td>5,687,289</td>\n",
       "      <td>563,767</td>\n",
       "    </tr>\n",
       "    <tr>\n",
       "      <th>2</th>\n",
       "      <td>Population, percent change - April 1, 2010 (es...</td>\n",
       "      <td>NaN</td>\n",
       "      <td>1.70%</td>\n",
       "      <td>4.50%</td>\n",
       "      <td>8.40%</td>\n",
       "      <td>2.50%</td>\n",
       "      <td>5.40%</td>\n",
       "      <td>10.20%</td>\n",
       "      <td>0.10%</td>\n",
       "      <td>6.00%</td>\n",
       "      <td>...</td>\n",
       "      <td>0.063</td>\n",
       "      <td>0.048</td>\n",
       "      <td>10.80%</td>\n",
       "      <td>10.40%</td>\n",
       "      <td>-0.20%</td>\n",
       "      <td>5.10%</td>\n",
       "      <td>8.40%</td>\n",
       "      <td>-1.20%</td>\n",
       "      <td>1.60%</td>\n",
       "      <td>3.90%</td>\n",
       "    </tr>\n",
       "    <tr>\n",
       "      <th>3</th>\n",
       "      <td>Population, Census, April 1, 2010</td>\n",
       "      <td>NaN</td>\n",
       "      <td>4,779,736</td>\n",
       "      <td>710,231</td>\n",
       "      <td>6,392,017</td>\n",
       "      <td>2,915,918</td>\n",
       "      <td>37,253,956</td>\n",
       "      <td>5,029,196</td>\n",
       "      <td>3,574,097</td>\n",
       "      <td>897,934</td>\n",
       "      <td>...</td>\n",
       "      <td>814180</td>\n",
       "      <td>6346105</td>\n",
       "      <td>25,145,561</td>\n",
       "      <td>2,763,885</td>\n",
       "      <td>625,741</td>\n",
       "      <td>8,001,024</td>\n",
       "      <td>6,724,540</td>\n",
       "      <td>1,852,994</td>\n",
       "      <td>5,686,986</td>\n",
       "      <td>563,626</td>\n",
       "    </tr>\n",
       "    <tr>\n",
       "      <th>4</th>\n",
       "      <td>Persons under 5 years, percent, July 1, 2016, ...</td>\n",
       "      <td>NaN</td>\n",
       "      <td>6.00%</td>\n",
       "      <td>7.30%</td>\n",
       "      <td>6.30%</td>\n",
       "      <td>6.40%</td>\n",
       "      <td>6.30%</td>\n",
       "      <td>6.10%</td>\n",
       "      <td>5.20%</td>\n",
       "      <td>5.80%</td>\n",
       "      <td>...</td>\n",
       "      <td>0.071</td>\n",
       "      <td>0.061</td>\n",
       "      <td>7.20%</td>\n",
       "      <td>8.30%</td>\n",
       "      <td>4.90%</td>\n",
       "      <td>6.10%</td>\n",
       "      <td>6.20%</td>\n",
       "      <td>5.50%</td>\n",
       "      <td>5.80%</td>\n",
       "      <td>6.50%</td>\n",
       "    </tr>\n",
       "  </tbody>\n",
       "</table>\n",
       "<p>5 rows × 52 columns</p>\n",
       "</div>"
      ],
      "text/plain": [
       "                                                Fact Fact Note    Alabama  \\\n",
       "0       Population estimates, July 1, 2016,  (V2016)       NaN  4,863,300   \n",
       "1  Population estimates base, April 1, 2010,  (V2...       NaN  4,780,131   \n",
       "2  Population, percent change - April 1, 2010 (es...       NaN      1.70%   \n",
       "3                  Population, Census, April 1, 2010       NaN  4,779,736   \n",
       "4  Persons under 5 years, percent, July 1, 2016, ...       NaN      6.00%   \n",
       "\n",
       "    Alaska    Arizona   Arkansas  California   Colorado Connecticut Delaware  \\\n",
       "0  741,894  6,931,071  2,988,248  39,250,017  5,540,545   3,576,452  952,065   \n",
       "1  710,249  6,392,301  2,916,025  37,254,522  5,029,324   3,574,114  897,936   \n",
       "2    4.50%      8.40%      2.50%       5.40%     10.20%       0.10%    6.00%   \n",
       "3  710,231  6,392,017  2,915,918  37,253,956  5,029,196   3,574,097  897,934   \n",
       "4    7.30%      6.30%      6.40%       6.30%      6.10%       5.20%    5.80%   \n",
       "\n",
       "    ...    South Dakota Tennessee       Texas       Utah  Vermont   Virginia  \\\n",
       "0   ...          865454   6651194  27,862,596  3,051,217  624,594  8,411,808   \n",
       "1   ...          814195   6346298  25,146,100  2,763,888  625,741  8,001,041   \n",
       "2   ...           0.063     0.048      10.80%     10.40%   -0.20%      5.10%   \n",
       "3   ...          814180   6346105  25,145,561  2,763,885  625,741  8,001,024   \n",
       "4   ...           0.071     0.061       7.20%      8.30%    4.90%      6.10%   \n",
       "\n",
       "  Washington West Virginia  Wisconsin  Wyoming  \n",
       "0  7,288,000     1,831,102  5,778,708  585,501  \n",
       "1  6,724,545     1,853,011  5,687,289  563,767  \n",
       "2      8.40%        -1.20%      1.60%    3.90%  \n",
       "3  6,724,540     1,852,994  5,686,986  563,626  \n",
       "4      6.20%         5.50%      5.80%    6.50%  \n",
       "\n",
       "[5 rows x 52 columns]"
      ]
     },
     "execution_count": 9,
     "metadata": {},
     "output_type": "execute_result"
    }
   ],
   "source": [
    "us_census_df.head()"
   ]
  },
  {
   "cell_type": "markdown",
   "metadata": {},
   "source": [
    "Well that's not very useful, let's check the data just to see what facts are available to us"
   ]
  },
  {
   "cell_type": "code",
   "execution_count": 10,
   "metadata": {
    "scrolled": false
   },
   "outputs": [
    {
     "name": "stdout",
     "output_type": "stream",
     "text": [
      "Population estimates, July 1, 2016,  (V2016)\n",
      "Population estimates base, April 1, 2010,  (V2016)\n",
      "Population, percent change - April 1, 2010 (estimates base) to July 1, 2016,  (V2016)\n",
      "Population, Census, April 1, 2010\n",
      "Persons under 5 years, percent, July 1, 2016,  (V2016)\n",
      "Persons under 5 years, percent, April 1, 2010\n",
      "Persons under 18 years, percent, July 1, 2016,  (V2016)\n",
      "Persons under 18 years, percent, April 1, 2010\n",
      "Persons 65 years and over, percent,  July 1, 2016,  (V2016)\n",
      "Persons 65 years and over, percent, April 1, 2010\n",
      "Female persons, percent,  July 1, 2016,  (V2016)\n",
      "Female persons, percent, April 1, 2010\n",
      "White alone, percent, July 1, 2016,  (V2016)\n",
      "Black or African American alone, percent, July 1, 2016,  (V2016)\n",
      "American Indian and Alaska Native alone, percent, July 1, 2016,  (V2016)\n",
      "Asian alone, percent, July 1, 2016,  (V2016)\n",
      "Native Hawaiian and Other Pacific Islander alone, percent, July 1, 2016,  (V2016)\n",
      "Two or More Races, percent, July 1, 2016,  (V2016)\n",
      "Hispanic or Latino, percent, July 1, 2016,  (V2016)\n",
      "White alone, not Hispanic or Latino, percent, July 1, 2016,  (V2016)\n",
      "Veterans, 2011-2015\n",
      "Foreign born persons, percent, 2011-2015\n",
      "Housing units,  July 1, 2016,  (V2016)\n",
      "Housing units, April 1, 2010\n",
      "Owner-occupied housing unit rate, 2011-2015\n",
      "Median value of owner-occupied housing units, 2011-2015\n",
      "Median selected monthly owner costs -with a mortgage, 2011-2015\n",
      "Median selected monthly owner costs -without a mortgage, 2011-2015\n",
      "Median gross rent, 2011-2015\n",
      "Building permits, 2016\n",
      "Households, 2011-2015\n",
      "Persons per household, 2011-2015\n",
      "Living in same house 1 year ago, percent of persons age 1 year+, 2011-2015\n",
      "Language other than English spoken at home, percent of persons age 5 years+, 2011-2015\n",
      "High school graduate or higher, percent of persons age 25 years+, 2011-2015\n",
      "Bachelor's degree or higher, percent of persons age 25 years+, 2011-2015\n",
      "With a disability, under age 65 years, percent, 2011-2015\n",
      "Persons  without health insurance, under age 65 years, percent\n",
      "In civilian labor force, total, percent of population age 16 years+, 2011-2015\n",
      "In civilian labor force, female, percent of population age 16 years+, 2011-2015\n",
      "Total accommodation and food services sales, 2012 ($1,000)\n",
      "Total health care and social assistance receipts/revenue, 2012 ($1,000)\n",
      "Total manufacturers shipments, 2012 ($1,000)\n",
      "Total merchant wholesaler sales, 2012 ($1,000)\n",
      "Total retail sales, 2012 ($1,000)\n",
      "Total retail sales per capita, 2012\n",
      "Mean travel time to work (minutes), workers age 16 years+, 2011-2015\n",
      "Median household income (in 2015 dollars), 2011-2015\n",
      "Per capita income in past 12 months (in 2015 dollars), 2011-2015\n",
      "Persons in poverty, percent\n",
      "Total employer establishments, 2015\n",
      "Total employment, 2015\n",
      "Total annual payroll, 2015 ($1,000)\n",
      "Total employment, percent change, 2014-2015\n",
      "Total nonemployer establishments, 2015\n",
      "All firms, 2012\n",
      "Men-owned firms, 2012\n",
      "Women-owned firms, 2012\n",
      "Minority-owned firms, 2012\n",
      "Nonminority-owned firms, 2012\n",
      "Veteran-owned firms, 2012\n",
      "Nonveteran-owned firms, 2012\n",
      "Population per square mile, 2010\n",
      "Land area in square miles, 2010\n",
      "FIPS Code\n",
      "nan\n",
      "NOTE: FIPS Code values are enclosed in quotes to ensure leading zeros remain intact.\n",
      "nan\n",
      "Value Notes\n",
      "1\n",
      "nan\n",
      "Fact Notes\n",
      "(a)\n",
      "(b)\n",
      "(c)\n",
      "nan\n",
      "Value Flags\n",
      "-\n",
      "D\n",
      "F\n",
      "FN\n",
      "nan\n",
      "S\n",
      "X\n",
      "Z\n"
     ]
    }
   ],
   "source": [
    "for row in us_census_df['Fact']:\n",
    "    print(row)"
   ]
  },
  {
   "cell_type": "markdown",
   "metadata": {},
   "source": [
    "And finally the data types of the `us_census_df` dataframe"
   ]
  },
  {
   "cell_type": "code",
   "execution_count": 11,
   "metadata": {
    "scrolled": false
   },
   "outputs": [
    {
     "data": {
      "text/plain": [
       "Fact              object\n",
       "Fact Note         object\n",
       "Alabama           object\n",
       "Alaska            object\n",
       "Arizona           object\n",
       "Arkansas          object\n",
       "California        object\n",
       "Colorado          object\n",
       "Connecticut       object\n",
       "Delaware          object\n",
       "Florida           object\n",
       "Georgia           object\n",
       "Hawaii            object\n",
       "Idaho             object\n",
       "Illinois          object\n",
       "Indiana           object\n",
       "Iowa              object\n",
       "Kansas            object\n",
       "Kentucky          object\n",
       "Louisiana         object\n",
       "Maine             object\n",
       "Maryland          object\n",
       "Massachusetts     object\n",
       "Michigan          object\n",
       "Minnesota         object\n",
       "Mississippi       object\n",
       "Missouri          object\n",
       "Montana           object\n",
       "Nebraska          object\n",
       "Nevada            object\n",
       "New Hampshire     object\n",
       "New Jersey        object\n",
       "New Mexico        object\n",
       "New York          object\n",
       "North Carolina    object\n",
       "North Dakota      object\n",
       "Ohio              object\n",
       "Oklahoma          object\n",
       "Oregon            object\n",
       "Pennsylvania      object\n",
       "Rhode Island      object\n",
       "South Carolina    object\n",
       "South Dakota      object\n",
       "Tennessee         object\n",
       "Texas             object\n",
       "Utah              object\n",
       "Vermont           object\n",
       "Virginia          object\n",
       "Washington        object\n",
       "West Virginia     object\n",
       "Wisconsin         object\n",
       "Wyoming           object\n",
       "dtype: object"
      ]
     },
     "execution_count": 11,
     "metadata": {},
     "output_type": "execute_result"
    }
   ],
   "source": [
    "us_census_df.dtypes"
   ]
  },
  {
   "cell_type": "markdown",
   "metadata": {},
   "source": [
    "It looks like the only row in the dataframe that will be useful for this investigation is the *Population estimates, July 1, 2016,  (V2016)* row. First we'll need to drop the `Fact Note` column and all the other rows that we're not interested in, doing this should convert our dataframe to a series with the `state` as the index, and then finally, convert all the state values to a numeric value. This will give us a Pandas `series` object we can later use in our per capita calculations."
   ]
  },
  {
   "cell_type": "markdown",
   "metadata": {},
   "source": [
    "### Data Cleaning"
   ]
  },
  {
   "cell_type": "markdown",
   "metadata": {},
   "source": [
    "#### Trimming the data\n",
    "Most of the columns deal with NICS checks for things unrelated to firearm sales, so we'll just drop those"
   ]
  },
  {
   "cell_type": "code",
   "execution_count": 12,
   "metadata": {},
   "outputs": [
    {
     "data": {
      "text/html": [
       "<div>\n",
       "<style scoped>\n",
       "    .dataframe tbody tr th:only-of-type {\n",
       "        vertical-align: middle;\n",
       "    }\n",
       "\n",
       "    .dataframe tbody tr th {\n",
       "        vertical-align: top;\n",
       "    }\n",
       "\n",
       "    .dataframe thead th {\n",
       "        text-align: right;\n",
       "    }\n",
       "</style>\n",
       "<table border=\"1\" class=\"dataframe\">\n",
       "  <thead>\n",
       "    <tr style=\"text-align: right;\">\n",
       "      <th></th>\n",
       "      <th>month</th>\n",
       "      <th>state</th>\n",
       "      <th>handgun</th>\n",
       "      <th>long_gun</th>\n",
       "      <th>other</th>\n",
       "      <th>multiple</th>\n",
       "      <th>private_sale_handgun</th>\n",
       "      <th>private_sale_long_gun</th>\n",
       "      <th>private_sale_other</th>\n",
       "    </tr>\n",
       "  </thead>\n",
       "  <tbody>\n",
       "    <tr>\n",
       "      <th>0</th>\n",
       "      <td>2017-09</td>\n",
       "      <td>Alabama</td>\n",
       "      <td>5734.0</td>\n",
       "      <td>6320.0</td>\n",
       "      <td>221.0</td>\n",
       "      <td>317</td>\n",
       "      <td>9.0</td>\n",
       "      <td>16.0</td>\n",
       "      <td>3.0</td>\n",
       "    </tr>\n",
       "    <tr>\n",
       "      <th>1</th>\n",
       "      <td>2017-09</td>\n",
       "      <td>Alaska</td>\n",
       "      <td>2320.0</td>\n",
       "      <td>2930.0</td>\n",
       "      <td>219.0</td>\n",
       "      <td>160</td>\n",
       "      <td>17.0</td>\n",
       "      <td>24.0</td>\n",
       "      <td>1.0</td>\n",
       "    </tr>\n",
       "    <tr>\n",
       "      <th>2</th>\n",
       "      <td>2017-09</td>\n",
       "      <td>Arizona</td>\n",
       "      <td>11063.0</td>\n",
       "      <td>7946.0</td>\n",
       "      <td>920.0</td>\n",
       "      <td>631</td>\n",
       "      <td>38.0</td>\n",
       "      <td>12.0</td>\n",
       "      <td>2.0</td>\n",
       "    </tr>\n",
       "    <tr>\n",
       "      <th>3</th>\n",
       "      <td>2017-09</td>\n",
       "      <td>Arkansas</td>\n",
       "      <td>4347.0</td>\n",
       "      <td>6063.0</td>\n",
       "      <td>165.0</td>\n",
       "      <td>366</td>\n",
       "      <td>13.0</td>\n",
       "      <td>23.0</td>\n",
       "      <td>0.0</td>\n",
       "    </tr>\n",
       "    <tr>\n",
       "      <th>4</th>\n",
       "      <td>2017-09</td>\n",
       "      <td>California</td>\n",
       "      <td>37165.0</td>\n",
       "      <td>24581.0</td>\n",
       "      <td>2984.0</td>\n",
       "      <td>0</td>\n",
       "      <td>0.0</td>\n",
       "      <td>0.0</td>\n",
       "      <td>0.0</td>\n",
       "    </tr>\n",
       "  </tbody>\n",
       "</table>\n",
       "</div>"
      ],
      "text/plain": [
       "     month       state  handgun  long_gun   other  multiple  \\\n",
       "0  2017-09     Alabama   5734.0    6320.0   221.0       317   \n",
       "1  2017-09      Alaska   2320.0    2930.0   219.0       160   \n",
       "2  2017-09     Arizona  11063.0    7946.0   920.0       631   \n",
       "3  2017-09    Arkansas   4347.0    6063.0   165.0       366   \n",
       "4  2017-09  California  37165.0   24581.0  2984.0         0   \n",
       "\n",
       "   private_sale_handgun  private_sale_long_gun  private_sale_other  \n",
       "0                   9.0                   16.0                 3.0  \n",
       "1                  17.0                   24.0                 1.0  \n",
       "2                  38.0                   12.0                 2.0  \n",
       "3                  13.0                   23.0                 0.0  \n",
       "4                   0.0                    0.0                 0.0  "
      ]
     },
     "execution_count": 12,
     "metadata": {},
     "output_type": "execute_result"
    }
   ],
   "source": [
    "gun_data_df.drop(columns=['permit', 'permit_recheck', 'admin', 'prepawn_handgun', \n",
    "                          'prepawn_long_gun', 'prepawn_other', 'redemption_handgun', \n",
    "                          'redemption_long_gun', 'redemption_other', 'returned_handgun', \n",
    "                          'returned_long_gun', 'returned_other', 'rentals_handgun', \n",
    "                          'rentals_long_gun', 'return_to_seller_handgun','return_to_seller_long_gun',\n",
    "                          'return_to_seller_other', 'totals'], inplace=True)\n",
    "gun_data_df.head()"
   ]
  },
  {
   "cell_type": "markdown",
   "metadata": {},
   "source": [
    "##### Dealing with missing values\n",
    "Since we know that there are quite a few NaNs in a number of the numeric columns in our `gun_data_df` dataset, for the sake of this investigation we're just going to assume that any field that is missing its value should be a 0 and fill that in"
   ]
  },
  {
   "cell_type": "code",
   "execution_count": 13,
   "metadata": {
    "scrolled": true
   },
   "outputs": [
    {
     "data": {
      "text/plain": [
       "month                    12485\n",
       "state                    12485\n",
       "handgun                  12485\n",
       "long_gun                 12485\n",
       "other                    12485\n",
       "multiple                 12485\n",
       "private_sale_handgun     12485\n",
       "private_sale_long_gun    12485\n",
       "private_sale_other       12485\n",
       "dtype: int64"
      ]
     },
     "execution_count": 13,
     "metadata": {},
     "output_type": "execute_result"
    }
   ],
   "source": [
    "gun_data_df.fillna(0, inplace=True)\n",
    "gun_data_df.count()"
   ]
  },
  {
   "cell_type": "markdown",
   "metadata": {},
   "source": [
    "#### Recasting columns to correct datatypes"
   ]
  },
  {
   "cell_type": "code",
   "execution_count": 14,
   "metadata": {},
   "outputs": [
    {
     "data": {
      "text/plain": [
       "month                    datetime64[ns]\n",
       "state                            object\n",
       "handgun                           int32\n",
       "long_gun                          int32\n",
       "other                             int32\n",
       "multiple                          int32\n",
       "private_sale_handgun              int32\n",
       "private_sale_long_gun             int32\n",
       "private_sale_other                int32\n",
       "dtype: object"
      ]
     },
     "execution_count": 14,
     "metadata": {},
     "output_type": "execute_result"
    }
   ],
   "source": [
    "# recast the month column\n",
    "gun_data_df.month = pd.to_datetime(gun_data_df.month)\n",
    "\n",
    "# convert all the numeric columns to integers\n",
    "for col in gun_data_df.columns:\n",
    "    if col in ['month', 'state']:\n",
    "        continue\n",
    "    gun_data_df[col] = gun_data_df[col].astype(int)\n",
    "\n",
    "gun_data_df.dtypes"
   ]
  },
  {
   "cell_type": "markdown",
   "metadata": {},
   "source": [
    "#### Creating a more useful index\n",
    "Now that the `month` column has been set as a `datetime` object, we can set it as the index to access it's `dt.` properties (e.g. `.month`, `.year`)"
   ]
  },
  {
   "cell_type": "code",
   "execution_count": 15,
   "metadata": {},
   "outputs": [],
   "source": [
    "# Set the index to the 'month' column\n",
    "gun_data_df.index = gun_data_df.month\n",
    "\n",
    "# Drop the 'month' column as we no longer need it\n",
    "gun_data_df.drop(columns=['month'], inplace=True)"
   ]
  },
  {
   "cell_type": "markdown",
   "metadata": {},
   "source": [
    "#### More trimming\n",
    "Since the data starts in November of 1998 and ends in September of 2017, we only want to keep the full years in between"
   ]
  },
  {
   "cell_type": "code",
   "execution_count": 16,
   "metadata": {},
   "outputs": [
    {
     "data": {
      "text/html": [
       "<div>\n",
       "<style scoped>\n",
       "    .dataframe tbody tr th:only-of-type {\n",
       "        vertical-align: middle;\n",
       "    }\n",
       "\n",
       "    .dataframe tbody tr th {\n",
       "        vertical-align: top;\n",
       "    }\n",
       "\n",
       "    .dataframe thead th {\n",
       "        text-align: right;\n",
       "    }\n",
       "</style>\n",
       "<table border=\"1\" class=\"dataframe\">\n",
       "  <thead>\n",
       "    <tr style=\"text-align: right;\">\n",
       "      <th></th>\n",
       "      <th>state</th>\n",
       "      <th>handgun</th>\n",
       "      <th>long_gun</th>\n",
       "      <th>other</th>\n",
       "      <th>multiple</th>\n",
       "      <th>private_sale_handgun</th>\n",
       "      <th>private_sale_long_gun</th>\n",
       "      <th>private_sale_other</th>\n",
       "    </tr>\n",
       "    <tr>\n",
       "      <th>month</th>\n",
       "      <th></th>\n",
       "      <th></th>\n",
       "      <th></th>\n",
       "      <th></th>\n",
       "      <th></th>\n",
       "      <th></th>\n",
       "      <th></th>\n",
       "      <th></th>\n",
       "    </tr>\n",
       "  </thead>\n",
       "  <tbody>\n",
       "    <tr>\n",
       "      <th>2016-12-01</th>\n",
       "      <td>Alabama</td>\n",
       "      <td>13733</td>\n",
       "      <td>17519</td>\n",
       "      <td>376</td>\n",
       "      <td>533</td>\n",
       "      <td>2</td>\n",
       "      <td>2</td>\n",
       "      <td>1</td>\n",
       "    </tr>\n",
       "    <tr>\n",
       "      <th>2016-12-01</th>\n",
       "      <td>Alaska</td>\n",
       "      <td>4087</td>\n",
       "      <td>3698</td>\n",
       "      <td>243</td>\n",
       "      <td>191</td>\n",
       "      <td>0</td>\n",
       "      <td>0</td>\n",
       "      <td>0</td>\n",
       "    </tr>\n",
       "    <tr>\n",
       "      <th>2016-12-01</th>\n",
       "      <td>Arizona</td>\n",
       "      <td>18024</td>\n",
       "      <td>13785</td>\n",
       "      <td>1180</td>\n",
       "      <td>703</td>\n",
       "      <td>2</td>\n",
       "      <td>2</td>\n",
       "      <td>0</td>\n",
       "    </tr>\n",
       "    <tr>\n",
       "      <th>2016-12-01</th>\n",
       "      <td>Arkansas</td>\n",
       "      <td>9192</td>\n",
       "      <td>13433</td>\n",
       "      <td>277</td>\n",
       "      <td>385</td>\n",
       "      <td>2</td>\n",
       "      <td>7</td>\n",
       "      <td>0</td>\n",
       "    </tr>\n",
       "    <tr>\n",
       "      <th>2016-12-01</th>\n",
       "      <td>California</td>\n",
       "      <td>63649</td>\n",
       "      <td>93224</td>\n",
       "      <td>77929</td>\n",
       "      <td>0</td>\n",
       "      <td>0</td>\n",
       "      <td>0</td>\n",
       "      <td>0</td>\n",
       "    </tr>\n",
       "  </tbody>\n",
       "</table>\n",
       "</div>"
      ],
      "text/plain": [
       "                 state  handgun  long_gun  other  multiple  \\\n",
       "month                                                        \n",
       "2016-12-01     Alabama    13733     17519    376       533   \n",
       "2016-12-01      Alaska     4087      3698    243       191   \n",
       "2016-12-01     Arizona    18024     13785   1180       703   \n",
       "2016-12-01    Arkansas     9192     13433    277       385   \n",
       "2016-12-01  California    63649     93224  77929         0   \n",
       "\n",
       "            private_sale_handgun  private_sale_long_gun  private_sale_other  \n",
       "month                                                                        \n",
       "2016-12-01                     2                      2                   1  \n",
       "2016-12-01                     0                      0                   0  \n",
       "2016-12-01                     2                      2                   0  \n",
       "2016-12-01                     2                      7                   0  \n",
       "2016-12-01                     0                      0                   0  "
      ]
     },
     "execution_count": 16,
     "metadata": {},
     "output_type": "execute_result"
    }
   ],
   "source": [
    "# Cut off everything before 1999, and after 2016\n",
    "gun_data_df = gun_data_df[(gun_data_df.index.year < 2017) & (gun_data_df.index.year > 1998)]\n",
    "gun_data_df.head()"
   ]
  },
  {
   "cell_type": "code",
   "execution_count": 17,
   "metadata": {},
   "outputs": [
    {
     "data": {
      "text/html": [
       "<div>\n",
       "<style scoped>\n",
       "    .dataframe tbody tr th:only-of-type {\n",
       "        vertical-align: middle;\n",
       "    }\n",
       "\n",
       "    .dataframe tbody tr th {\n",
       "        vertical-align: top;\n",
       "    }\n",
       "\n",
       "    .dataframe thead th {\n",
       "        text-align: right;\n",
       "    }\n",
       "</style>\n",
       "<table border=\"1\" class=\"dataframe\">\n",
       "  <thead>\n",
       "    <tr style=\"text-align: right;\">\n",
       "      <th></th>\n",
       "      <th>state</th>\n",
       "      <th>handgun</th>\n",
       "      <th>long_gun</th>\n",
       "      <th>other</th>\n",
       "      <th>multiple</th>\n",
       "      <th>private_sale_handgun</th>\n",
       "      <th>private_sale_long_gun</th>\n",
       "      <th>private_sale_other</th>\n",
       "    </tr>\n",
       "    <tr>\n",
       "      <th>month</th>\n",
       "      <th></th>\n",
       "      <th></th>\n",
       "      <th></th>\n",
       "      <th></th>\n",
       "      <th></th>\n",
       "      <th></th>\n",
       "      <th></th>\n",
       "      <th></th>\n",
       "    </tr>\n",
       "  </thead>\n",
       "  <tbody>\n",
       "    <tr>\n",
       "      <th>1999-01-01</th>\n",
       "      <td>Virginia</td>\n",
       "      <td>6298</td>\n",
       "      <td>7556</td>\n",
       "      <td>0</td>\n",
       "      <td>127</td>\n",
       "      <td>0</td>\n",
       "      <td>0</td>\n",
       "      <td>0</td>\n",
       "    </tr>\n",
       "    <tr>\n",
       "      <th>1999-01-01</th>\n",
       "      <td>Washington</td>\n",
       "      <td>1891</td>\n",
       "      <td>5780</td>\n",
       "      <td>0</td>\n",
       "      <td>149</td>\n",
       "      <td>0</td>\n",
       "      <td>0</td>\n",
       "      <td>0</td>\n",
       "    </tr>\n",
       "    <tr>\n",
       "      <th>1999-01-01</th>\n",
       "      <td>West Virginia</td>\n",
       "      <td>2989</td>\n",
       "      <td>5118</td>\n",
       "      <td>0</td>\n",
       "      <td>153</td>\n",
       "      <td>0</td>\n",
       "      <td>0</td>\n",
       "      <td>0</td>\n",
       "    </tr>\n",
       "    <tr>\n",
       "      <th>1999-01-01</th>\n",
       "      <td>Wisconsin</td>\n",
       "      <td>2709</td>\n",
       "      <td>5063</td>\n",
       "      <td>0</td>\n",
       "      <td>8</td>\n",
       "      <td>0</td>\n",
       "      <td>0</td>\n",
       "      <td>0</td>\n",
       "    </tr>\n",
       "    <tr>\n",
       "      <th>1999-01-01</th>\n",
       "      <td>Wyoming</td>\n",
       "      <td>668</td>\n",
       "      <td>1401</td>\n",
       "      <td>0</td>\n",
       "      <td>44</td>\n",
       "      <td>0</td>\n",
       "      <td>0</td>\n",
       "      <td>0</td>\n",
       "    </tr>\n",
       "  </tbody>\n",
       "</table>\n",
       "</div>"
      ],
      "text/plain": [
       "                    state  handgun  long_gun  other  multiple  \\\n",
       "month                                                           \n",
       "1999-01-01       Virginia     6298      7556      0       127   \n",
       "1999-01-01     Washington     1891      5780      0       149   \n",
       "1999-01-01  West Virginia     2989      5118      0       153   \n",
       "1999-01-01      Wisconsin     2709      5063      0         8   \n",
       "1999-01-01        Wyoming      668      1401      0        44   \n",
       "\n",
       "            private_sale_handgun  private_sale_long_gun  private_sale_other  \n",
       "month                                                                        \n",
       "1999-01-01                     0                      0                   0  \n",
       "1999-01-01                     0                      0                   0  \n",
       "1999-01-01                     0                      0                   0  \n",
       "1999-01-01                     0                      0                   0  \n",
       "1999-01-01                     0                      0                   0  "
      ]
     },
     "execution_count": 17,
     "metadata": {},
     "output_type": "execute_result"
    }
   ],
   "source": [
    "gun_data_df.tail()"
   ]
  },
  {
   "cell_type": "markdown",
   "metadata": {},
   "source": [
    "That takes care of the `gun_data_df` dataframe, now let's move on to the `us_census_df` dataframe."
   ]
  },
  {
   "cell_type": "code",
   "execution_count": 18,
   "metadata": {},
   "outputs": [
    {
     "data": {
      "text/plain": [
       "Alabama        4,863,300\n",
       "Alaska           741,894\n",
       "Arizona        6,931,071\n",
       "Arkansas       2,988,248\n",
       "California    39,250,017\n",
       "Name: population, dtype: object"
      ]
     },
     "execution_count": 18,
     "metadata": {},
     "output_type": "execute_result"
    }
   ],
   "source": [
    "# drop the 'Fact' and `Fact Note` columns\n",
    "us_census_df.drop(columns=['Fact', 'Fact Note'], inplace=True)\n",
    "\n",
    "# drop all the rows not relevant to our investigation\n",
    "us_census_df = us_census_df.iloc[0]\n",
    "\n",
    "# rename the index from 0 (the previous index value) to 'state'\n",
    "us_census_df.name = 'population'\n",
    "\n",
    "us_census_df.head()"
   ]
  },
  {
   "cell_type": "markdown",
   "metadata": {},
   "source": [
    "#### Looking good, now to address the incorrect data types"
   ]
  },
  {
   "cell_type": "code",
   "execution_count": 19,
   "metadata": {},
   "outputs": [],
   "source": [
    "# Since Panads `.to_numeric()` method cannot handle string numbers with commas first we'll remove those\n",
    "us_census_df = us_census_df.apply(lambda state: state.replace(',',''))\n",
    "\n",
    "# next we'll convert the string values to integers\n",
    "us_census_df = pd.to_numeric(us_census_df, downcast='integer')"
   ]
  },
  {
   "cell_type": "code",
   "execution_count": 20,
   "metadata": {},
   "outputs": [
    {
     "data": {
      "text/plain": [
       "Alabama        4863300\n",
       "Alaska          741894\n",
       "Arizona        6931071\n",
       "Arkansas       2988248\n",
       "California    39250017\n",
       "Name: population, dtype: int32"
      ]
     },
     "execution_count": 20,
     "metadata": {},
     "output_type": "execute_result"
    }
   ],
   "source": [
    "# now to check our work\n",
    "us_census_df.head()"
   ]
  },
  {
   "cell_type": "markdown",
   "metadata": {},
   "source": [
    "<a id='eda'></a>\n",
    "## Exploratory Data Analysis\n",
    "\n",
    "### What is the overall trend of gun purchases at a national level over time?"
   ]
  },
  {
   "cell_type": "markdown",
   "metadata": {},
   "source": [
    "Now that we've dropped the previous `total` column, let's go ahead and create a new one that is the sum of all the other numeric columns"
   ]
  },
  {
   "cell_type": "code",
   "execution_count": 21,
   "metadata": {
    "scrolled": true
   },
   "outputs": [
    {
     "data": {
      "text/html": [
       "<div>\n",
       "<style scoped>\n",
       "    .dataframe tbody tr th:only-of-type {\n",
       "        vertical-align: middle;\n",
       "    }\n",
       "\n",
       "    .dataframe tbody tr th {\n",
       "        vertical-align: top;\n",
       "    }\n",
       "\n",
       "    .dataframe thead th {\n",
       "        text-align: right;\n",
       "    }\n",
       "</style>\n",
       "<table border=\"1\" class=\"dataframe\">\n",
       "  <thead>\n",
       "    <tr style=\"text-align: right;\">\n",
       "      <th></th>\n",
       "      <th>state</th>\n",
       "      <th>handgun</th>\n",
       "      <th>long_gun</th>\n",
       "      <th>other</th>\n",
       "      <th>multiple</th>\n",
       "      <th>private_sale_handgun</th>\n",
       "      <th>private_sale_long_gun</th>\n",
       "      <th>private_sale_other</th>\n",
       "      <th>total_sales</th>\n",
       "    </tr>\n",
       "    <tr>\n",
       "      <th>month</th>\n",
       "      <th></th>\n",
       "      <th></th>\n",
       "      <th></th>\n",
       "      <th></th>\n",
       "      <th></th>\n",
       "      <th></th>\n",
       "      <th></th>\n",
       "      <th></th>\n",
       "      <th></th>\n",
       "    </tr>\n",
       "  </thead>\n",
       "  <tbody>\n",
       "    <tr>\n",
       "      <th>2016-12-01</th>\n",
       "      <td>Alabama</td>\n",
       "      <td>13733</td>\n",
       "      <td>17519</td>\n",
       "      <td>376</td>\n",
       "      <td>533</td>\n",
       "      <td>2</td>\n",
       "      <td>2</td>\n",
       "      <td>1</td>\n",
       "      <td>32166</td>\n",
       "    </tr>\n",
       "    <tr>\n",
       "      <th>2016-12-01</th>\n",
       "      <td>Alaska</td>\n",
       "      <td>4087</td>\n",
       "      <td>3698</td>\n",
       "      <td>243</td>\n",
       "      <td>191</td>\n",
       "      <td>0</td>\n",
       "      <td>0</td>\n",
       "      <td>0</td>\n",
       "      <td>8219</td>\n",
       "    </tr>\n",
       "    <tr>\n",
       "      <th>2016-12-01</th>\n",
       "      <td>Arizona</td>\n",
       "      <td>18024</td>\n",
       "      <td>13785</td>\n",
       "      <td>1180</td>\n",
       "      <td>703</td>\n",
       "      <td>2</td>\n",
       "      <td>2</td>\n",
       "      <td>0</td>\n",
       "      <td>33696</td>\n",
       "    </tr>\n",
       "    <tr>\n",
       "      <th>2016-12-01</th>\n",
       "      <td>Arkansas</td>\n",
       "      <td>9192</td>\n",
       "      <td>13433</td>\n",
       "      <td>277</td>\n",
       "      <td>385</td>\n",
       "      <td>2</td>\n",
       "      <td>7</td>\n",
       "      <td>0</td>\n",
       "      <td>23296</td>\n",
       "    </tr>\n",
       "    <tr>\n",
       "      <th>2016-12-01</th>\n",
       "      <td>California</td>\n",
       "      <td>63649</td>\n",
       "      <td>93224</td>\n",
       "      <td>77929</td>\n",
       "      <td>0</td>\n",
       "      <td>0</td>\n",
       "      <td>0</td>\n",
       "      <td>0</td>\n",
       "      <td>234802</td>\n",
       "    </tr>\n",
       "  </tbody>\n",
       "</table>\n",
       "</div>"
      ],
      "text/plain": [
       "                 state  handgun  long_gun  other  multiple  \\\n",
       "month                                                        \n",
       "2016-12-01     Alabama    13733     17519    376       533   \n",
       "2016-12-01      Alaska     4087      3698    243       191   \n",
       "2016-12-01     Arizona    18024     13785   1180       703   \n",
       "2016-12-01    Arkansas     9192     13433    277       385   \n",
       "2016-12-01  California    63649     93224  77929         0   \n",
       "\n",
       "            private_sale_handgun  private_sale_long_gun  private_sale_other  \\\n",
       "month                                                                         \n",
       "2016-12-01                     2                      2                   1   \n",
       "2016-12-01                     0                      0                   0   \n",
       "2016-12-01                     2                      2                   0   \n",
       "2016-12-01                     2                      7                   0   \n",
       "2016-12-01                     0                      0                   0   \n",
       "\n",
       "            total_sales  \n",
       "month                    \n",
       "2016-12-01        32166  \n",
       "2016-12-01         8219  \n",
       "2016-12-01        33696  \n",
       "2016-12-01        23296  \n",
       "2016-12-01       234802  "
      ]
     },
     "execution_count": 21,
     "metadata": {},
     "output_type": "execute_result"
    }
   ],
   "source": [
    "gun_data_df['total_sales'] = gun_data_df.sum(axis=1)\n",
    "gun_data_df.head()"
   ]
  },
  {
   "cell_type": "markdown",
   "metadata": {},
   "source": [
    "##### Looks good, next up let's group by year and plot the results\n",
    "Since we're only interested in the average total sales for each year, that'll be the column we plot"
   ]
  },
  {
   "cell_type": "code",
   "execution_count": 22,
   "metadata": {},
   "outputs": [
    {
     "data": {
      "text/plain": [
       "<matplotlib.axes._subplots.AxesSubplot at 0x1574e2d5b70>"
      ]
     },
     "execution_count": 22,
     "metadata": {},
     "output_type": "execute_result"
    },
    {
     "data": {
      "image/png": "[encoded data removed]",
      "text/plain": [
       "<matplotlib.figure.Figure at 0x1574e90e940>"
      ]
     },
     "metadata": {},
     "output_type": "display_data"
    }
   ],
   "source": [
    "gun_data_df.groupby(gun_data_df.index.year)['total_sales'].mean().plot(kind='line',\n",
    "                                                                       title='Total Firearm Sales by Year')"
   ]
  },
  {
   "cell_type": "markdown",
   "metadata": {},
   "source": [
    "#### And now just because I'm curious, what are the plots for each major catagory of sale (handgun, long gun, other):"
   ]
  },
  {
   "cell_type": "code",
   "execution_count": 23,
   "metadata": {},
   "outputs": [
    {
     "data": {
      "text/plain": [
       "<matplotlib.axes._subplots.AxesSubplot at 0x1574e90ee10>"
      ]
     },
     "execution_count": 23,
     "metadata": {},
     "output_type": "execute_result"
    },
    {
     "data": {
      "image/png": "[encoded data removed]",
      "text/plain": [
       "<matplotlib.figure.Figure at 0x1574e927390>"
      ]
     },
     "metadata": {},
     "output_type": "display_data"
    }
   ],
   "source": [
    "gun_data_df.groupby(gun_data_df.index.year)['handgun'].mean().plot(kind='line',\n",
    "                                                                       title='Handgun Sales by Year')"
   ]
  },
  {
   "cell_type": "code",
   "execution_count": 24,
   "metadata": {},
   "outputs": [
    {
     "data": {
      "text/plain": [
       "<matplotlib.axes._subplots.AxesSubplot at 0x1574e9274a8>"
      ]
     },
     "execution_count": 24,
     "metadata": {},
     "output_type": "execute_result"
    },
    {
     "data": {
      "image/png": "[encoded data removed]",
      "text/plain": [
       "<matplotlib.figure.Figure at 0x1574e90ee48>"
      ]
     },
     "metadata": {},
     "output_type": "display_data"
    }
   ],
   "source": [
    "gun_data_df.groupby(gun_data_df.index.year)['long_gun'].mean().plot(kind='line',\n",
    "                                                                    title='Long Gun Sales by Year')"
   ]
  },
  {
   "cell_type": "code",
   "execution_count": 25,
   "metadata": {},
   "outputs": [
    {
     "data": {
      "text/plain": [
       "<matplotlib.axes._subplots.AxesSubplot at 0x1574e113f60>"
      ]
     },
     "execution_count": 25,
     "metadata": {},
     "output_type": "execute_result"
    },
    {
     "data": {
      "image/png": "[encoded data removed]",
      "text/plain": [
       "<matplotlib.figure.Figure at 0x1574e3c0a20>"
      ]
     },
     "metadata": {},
     "output_type": "display_data"
    }
   ],
   "source": [
    "gun_data_df.groupby(gun_data_df.index.year)['other'].mean().plot(kind='line',\n",
    "                                                                 title='Other Firearm Sales by Year')"
   ]
  },
  {
   "cell_type": "markdown",
   "metadata": {},
   "source": [
    "### Which state has the highest firearm sales per capita for the given time period (2016)?"
   ]
  },
  {
   "cell_type": "markdown",
   "metadata": {},
   "source": [
    "The first thing we'll need to do to answer this question is narrow our dataset to only the year 2016. Next we have to group the values up by state, then join it to the `us_census_df` dataframe, and finally, calculate the per capita values for each state."
   ]
  },
  {
   "cell_type": "code",
   "execution_count": 26,
   "metadata": {
    "scrolled": true
   },
   "outputs": [
    {
     "data": {
      "text/plain": [
       "DatetimeIndex(['2016-12-01', '2016-11-01', '2016-10-01', '2016-09-01',\n",
       "               '2016-08-01', '2016-07-01', '2016-06-01', '2016-05-01',\n",
       "               '2016-04-01', '2016-03-01', '2016-02-01', '2016-01-01'],\n",
       "              dtype='datetime64[ns]', name='month', freq=None)"
      ]
     },
     "execution_count": 26,
     "metadata": {},
     "output_type": "execute_result"
    }
   ],
   "source": [
    "# Create a new dataframe that is just the data for the year 2016\n",
    "sampled_df = gun_data_df[gun_data_df.index.year == 2016]\n",
    "\n",
    "sampled_df.index.unique()"
   ]
  },
  {
   "cell_type": "code",
   "execution_count": 27,
   "metadata": {},
   "outputs": [
    {
     "data": {
      "text/html": [
       "<div>\n",
       "<style scoped>\n",
       "    .dataframe tbody tr th:only-of-type {\n",
       "        vertical-align: middle;\n",
       "    }\n",
       "\n",
       "    .dataframe tbody tr th {\n",
       "        vertical-align: top;\n",
       "    }\n",
       "\n",
       "    .dataframe thead th {\n",
       "        text-align: right;\n",
       "    }\n",
       "</style>\n",
       "<table border=\"1\" class=\"dataframe\">\n",
       "  <thead>\n",
       "    <tr style=\"text-align: right;\">\n",
       "      <th></th>\n",
       "      <th>handgun</th>\n",
       "      <th>long_gun</th>\n",
       "      <th>other</th>\n",
       "      <th>multiple</th>\n",
       "      <th>private_sale_handgun</th>\n",
       "      <th>private_sale_long_gun</th>\n",
       "      <th>private_sale_other</th>\n",
       "      <th>total_sales</th>\n",
       "    </tr>\n",
       "    <tr>\n",
       "      <th>state</th>\n",
       "      <th></th>\n",
       "      <th></th>\n",
       "      <th></th>\n",
       "      <th></th>\n",
       "      <th></th>\n",
       "      <th></th>\n",
       "      <th></th>\n",
       "      <th></th>\n",
       "    </tr>\n",
       "  </thead>\n",
       "  <tbody>\n",
       "    <tr>\n",
       "      <th>Alabama</th>\n",
       "      <td>153123</td>\n",
       "      <td>121963</td>\n",
       "      <td>6104</td>\n",
       "      <td>6545</td>\n",
       "      <td>72</td>\n",
       "      <td>65</td>\n",
       "      <td>4</td>\n",
       "      <td>287876</td>\n",
       "    </tr>\n",
       "    <tr>\n",
       "      <th>Alaska</th>\n",
       "      <td>37491</td>\n",
       "      <td>36887</td>\n",
       "      <td>2889</td>\n",
       "      <td>2316</td>\n",
       "      <td>39</td>\n",
       "      <td>66</td>\n",
       "      <td>1</td>\n",
       "      <td>79689</td>\n",
       "    </tr>\n",
       "    <tr>\n",
       "      <th>Arizona</th>\n",
       "      <td>166784</td>\n",
       "      <td>108988</td>\n",
       "      <td>13122</td>\n",
       "      <td>7908</td>\n",
       "      <td>76</td>\n",
       "      <td>56</td>\n",
       "      <td>11</td>\n",
       "      <td>296945</td>\n",
       "    </tr>\n",
       "    <tr>\n",
       "      <th>Arkansas</th>\n",
       "      <td>80244</td>\n",
       "      <td>82120</td>\n",
       "      <td>3059</td>\n",
       "      <td>4400</td>\n",
       "      <td>72</td>\n",
       "      <td>64</td>\n",
       "      <td>6</td>\n",
       "      <td>169965</td>\n",
       "    </tr>\n",
       "    <tr>\n",
       "      <th>California</th>\n",
       "      <td>560355</td>\n",
       "      <td>554550</td>\n",
       "      <td>211707</td>\n",
       "      <td>0</td>\n",
       "      <td>0</td>\n",
       "      <td>0</td>\n",
       "      <td>0</td>\n",
       "      <td>1326612</td>\n",
       "    </tr>\n",
       "  </tbody>\n",
       "</table>\n",
       "</div>"
      ],
      "text/plain": [
       "            handgun  long_gun   other  multiple  private_sale_handgun  \\\n",
       "state                                                                   \n",
       "Alabama      153123    121963    6104      6545                    72   \n",
       "Alaska        37491     36887    2889      2316                    39   \n",
       "Arizona      166784    108988   13122      7908                    76   \n",
       "Arkansas      80244     82120    3059      4400                    72   \n",
       "California   560355    554550  211707         0                     0   \n",
       "\n",
       "            private_sale_long_gun  private_sale_other  total_sales  \n",
       "state                                                               \n",
       "Alabama                        65                   4       287876  \n",
       "Alaska                         66                   1        79689  \n",
       "Arizona                        56                  11       296945  \n",
       "Arkansas                       64                   6       169965  \n",
       "California                      0                   0      1326612  "
      ]
     },
     "execution_count": 27,
     "metadata": {},
     "output_type": "execute_result"
    }
   ],
   "source": [
    "# Group up everything by state and get the sum values\n",
    "sampled_df = sampled_df.groupby(sampled_df.state).sum()\n",
    "\n",
    "sampled_df.head()"
   ]
  },
  {
   "cell_type": "code",
   "execution_count": 28,
   "metadata": {
    "scrolled": false
   },
   "outputs": [
    {
     "data": {
      "text/plain": [
       "<matplotlib.axes._subplots.AxesSubplot at 0x1574e113320>"
      ]
     },
     "execution_count": 28,
     "metadata": {},
     "output_type": "execute_result"
    },
    {
     "data": {
      "image/png": "[encoded data removed]",
      "text/plain": [
       "<matplotlib.figure.Figure at 0x1574dcaf0f0>"
      ]
     },
     "metadata": {},
     "output_type": "display_data"
    }
   ],
   "source": [
    "# plot the total sales by state\n",
    "sampled_df['total_sales'].plot(kind='bar',\n",
    "                               figsize=(15,5),\n",
    "                               title='Firearm sales for the year 2016 by state')"
   ]
  },
  {
   "cell_type": "code",
   "execution_count": 29,
   "metadata": {
    "scrolled": true
   },
   "outputs": [
    {
     "data": {
      "text/html": [
       "<div>\n",
       "<style scoped>\n",
       "    .dataframe tbody tr th:only-of-type {\n",
       "        vertical-align: middle;\n",
       "    }\n",
       "\n",
       "    .dataframe tbody tr th {\n",
       "        vertical-align: top;\n",
       "    }\n",
       "\n",
       "    .dataframe thead th {\n",
       "        text-align: right;\n",
       "    }\n",
       "</style>\n",
       "<table border=\"1\" class=\"dataframe\">\n",
       "  <thead>\n",
       "    <tr style=\"text-align: right;\">\n",
       "      <th></th>\n",
       "      <th>handgun</th>\n",
       "      <th>long_gun</th>\n",
       "      <th>other</th>\n",
       "      <th>multiple</th>\n",
       "      <th>private_sale_handgun</th>\n",
       "      <th>private_sale_long_gun</th>\n",
       "      <th>private_sale_other</th>\n",
       "      <th>total_sales</th>\n",
       "      <th>population</th>\n",
       "    </tr>\n",
       "    <tr>\n",
       "      <th>state</th>\n",
       "      <th></th>\n",
       "      <th></th>\n",
       "      <th></th>\n",
       "      <th></th>\n",
       "      <th></th>\n",
       "      <th></th>\n",
       "      <th></th>\n",
       "      <th></th>\n",
       "      <th></th>\n",
       "    </tr>\n",
       "  </thead>\n",
       "  <tbody>\n",
       "    <tr>\n",
       "      <th>Alabama</th>\n",
       "      <td>153123</td>\n",
       "      <td>121963</td>\n",
       "      <td>6104</td>\n",
       "      <td>6545</td>\n",
       "      <td>72</td>\n",
       "      <td>65</td>\n",
       "      <td>4</td>\n",
       "      <td>287876</td>\n",
       "      <td>4863300.0</td>\n",
       "    </tr>\n",
       "    <tr>\n",
       "      <th>Alaska</th>\n",
       "      <td>37491</td>\n",
       "      <td>36887</td>\n",
       "      <td>2889</td>\n",
       "      <td>2316</td>\n",
       "      <td>39</td>\n",
       "      <td>66</td>\n",
       "      <td>1</td>\n",
       "      <td>79689</td>\n",
       "      <td>741894.0</td>\n",
       "    </tr>\n",
       "    <tr>\n",
       "      <th>Arizona</th>\n",
       "      <td>166784</td>\n",
       "      <td>108988</td>\n",
       "      <td>13122</td>\n",
       "      <td>7908</td>\n",
       "      <td>76</td>\n",
       "      <td>56</td>\n",
       "      <td>11</td>\n",
       "      <td>296945</td>\n",
       "      <td>6931071.0</td>\n",
       "    </tr>\n",
       "    <tr>\n",
       "      <th>Arkansas</th>\n",
       "      <td>80244</td>\n",
       "      <td>82120</td>\n",
       "      <td>3059</td>\n",
       "      <td>4400</td>\n",
       "      <td>72</td>\n",
       "      <td>64</td>\n",
       "      <td>6</td>\n",
       "      <td>169965</td>\n",
       "      <td>2988248.0</td>\n",
       "    </tr>\n",
       "    <tr>\n",
       "      <th>California</th>\n",
       "      <td>560355</td>\n",
       "      <td>554550</td>\n",
       "      <td>211707</td>\n",
       "      <td>0</td>\n",
       "      <td>0</td>\n",
       "      <td>0</td>\n",
       "      <td>0</td>\n",
       "      <td>1326612</td>\n",
       "      <td>39250017.0</td>\n",
       "    </tr>\n",
       "  </tbody>\n",
       "</table>\n",
       "</div>"
      ],
      "text/plain": [
       "            handgun  long_gun   other  multiple  private_sale_handgun  \\\n",
       "state                                                                   \n",
       "Alabama      153123    121963    6104      6545                    72   \n",
       "Alaska        37491     36887    2889      2316                    39   \n",
       "Arizona      166784    108988   13122      7908                    76   \n",
       "Arkansas      80244     82120    3059      4400                    72   \n",
       "California   560355    554550  211707         0                     0   \n",
       "\n",
       "            private_sale_long_gun  private_sale_other  total_sales  population  \n",
       "state                                                                           \n",
       "Alabama                        65                   4       287876   4863300.0  \n",
       "Alaska                         66                   1        79689    741894.0  \n",
       "Arizona                        56                  11       296945   6931071.0  \n",
       "Arkansas                       64                   6       169965   2988248.0  \n",
       "California                      0                   0      1326612  39250017.0  "
      ]
     },
     "execution_count": 29,
     "metadata": {},
     "output_type": "execute_result"
    }
   ],
   "source": [
    "# add the state population from the us_census_df dataframe\n",
    "sampled_df = sampled_df.join(us_census_df)\n",
    "sampled_df.head()"
   ]
  },
  {
   "cell_type": "code",
   "execution_count": 30,
   "metadata": {},
   "outputs": [
    {
     "data": {
      "text/html": [
       "<div>\n",
       "<style scoped>\n",
       "    .dataframe tbody tr th:only-of-type {\n",
       "        vertical-align: middle;\n",
       "    }\n",
       "\n",
       "    .dataframe tbody tr th {\n",
       "        vertical-align: top;\n",
       "    }\n",
       "\n",
       "    .dataframe thead th {\n",
       "        text-align: right;\n",
       "    }\n",
       "</style>\n",
       "<table border=\"1\" class=\"dataframe\">\n",
       "  <thead>\n",
       "    <tr style=\"text-align: right;\">\n",
       "      <th></th>\n",
       "      <th>handgun</th>\n",
       "      <th>long_gun</th>\n",
       "      <th>other</th>\n",
       "      <th>multiple</th>\n",
       "      <th>private_sale_handgun</th>\n",
       "      <th>private_sale_long_gun</th>\n",
       "      <th>private_sale_other</th>\n",
       "      <th>total_sales</th>\n",
       "      <th>population</th>\n",
       "      <th>sales_per_capita</th>\n",
       "    </tr>\n",
       "    <tr>\n",
       "      <th>state</th>\n",
       "      <th></th>\n",
       "      <th></th>\n",
       "      <th></th>\n",
       "      <th></th>\n",
       "      <th></th>\n",
       "      <th></th>\n",
       "      <th></th>\n",
       "      <th></th>\n",
       "      <th></th>\n",
       "      <th></th>\n",
       "    </tr>\n",
       "  </thead>\n",
       "  <tbody>\n",
       "    <tr>\n",
       "      <th>Alabama</th>\n",
       "      <td>153123</td>\n",
       "      <td>121963</td>\n",
       "      <td>6104</td>\n",
       "      <td>6545</td>\n",
       "      <td>72</td>\n",
       "      <td>65</td>\n",
       "      <td>4</td>\n",
       "      <td>287876</td>\n",
       "      <td>4863300.0</td>\n",
       "      <td>16.893732</td>\n",
       "    </tr>\n",
       "    <tr>\n",
       "      <th>Alaska</th>\n",
       "      <td>37491</td>\n",
       "      <td>36887</td>\n",
       "      <td>2889</td>\n",
       "      <td>2316</td>\n",
       "      <td>39</td>\n",
       "      <td>66</td>\n",
       "      <td>1</td>\n",
       "      <td>79689</td>\n",
       "      <td>741894.0</td>\n",
       "      <td>9.309867</td>\n",
       "    </tr>\n",
       "    <tr>\n",
       "      <th>Arizona</th>\n",
       "      <td>166784</td>\n",
       "      <td>108988</td>\n",
       "      <td>13122</td>\n",
       "      <td>7908</td>\n",
       "      <td>76</td>\n",
       "      <td>56</td>\n",
       "      <td>11</td>\n",
       "      <td>296945</td>\n",
       "      <td>6931071.0</td>\n",
       "      <td>23.341262</td>\n",
       "    </tr>\n",
       "    <tr>\n",
       "      <th>Arkansas</th>\n",
       "      <td>80244</td>\n",
       "      <td>82120</td>\n",
       "      <td>3059</td>\n",
       "      <td>4400</td>\n",
       "      <td>72</td>\n",
       "      <td>64</td>\n",
       "      <td>6</td>\n",
       "      <td>169965</td>\n",
       "      <td>2988248.0</td>\n",
       "      <td>17.581549</td>\n",
       "    </tr>\n",
       "    <tr>\n",
       "      <th>California</th>\n",
       "      <td>560355</td>\n",
       "      <td>554550</td>\n",
       "      <td>211707</td>\n",
       "      <td>0</td>\n",
       "      <td>0</td>\n",
       "      <td>0</td>\n",
       "      <td>0</td>\n",
       "      <td>1326612</td>\n",
       "      <td>39250017.0</td>\n",
       "      <td>29.586659</td>\n",
       "    </tr>\n",
       "  </tbody>\n",
       "</table>\n",
       "</div>"
      ],
      "text/plain": [
       "            handgun  long_gun   other  multiple  private_sale_handgun  \\\n",
       "state                                                                   \n",
       "Alabama      153123    121963    6104      6545                    72   \n",
       "Alaska        37491     36887    2889      2316                    39   \n",
       "Arizona      166784    108988   13122      7908                    76   \n",
       "Arkansas      80244     82120    3059      4400                    72   \n",
       "California   560355    554550  211707         0                     0   \n",
       "\n",
       "            private_sale_long_gun  private_sale_other  total_sales  \\\n",
       "state                                                                \n",
       "Alabama                        65                   4       287876   \n",
       "Alaska                         66                   1        79689   \n",
       "Arizona                        56                  11       296945   \n",
       "Arkansas                       64                   6       169965   \n",
       "California                      0                   0      1326612   \n",
       "\n",
       "            population  sales_per_capita  \n",
       "state                                     \n",
       "Alabama      4863300.0         16.893732  \n",
       "Alaska        741894.0          9.309867  \n",
       "Arizona      6931071.0         23.341262  \n",
       "Arkansas     2988248.0         17.581549  \n",
       "California  39250017.0         29.586659  "
      ]
     },
     "execution_count": 30,
     "metadata": {},
     "output_type": "execute_result"
    }
   ],
   "source": [
    "sampled_df['sales_per_capita'] = sampled_df.population / sampled_df.total_sales\n",
    "sampled_df.head()"
   ]
  },
  {
   "cell_type": "code",
   "execution_count": 31,
   "metadata": {},
   "outputs": [
    {
     "data": {
      "text/plain": [
       "state\n",
       "Hawaii                        inf\n",
       "Iowa                    81.363537\n",
       "New Jersey              73.403765\n",
       "Nebraska                66.759408\n",
       "New York                56.011667\n",
       "Massachusetts           53.031001\n",
       "North Carolina          49.163415\n",
       "Maryland                47.591696\n",
       "Rhode Island            38.359695\n",
       "Michigan                32.741057\n",
       "Georgia                 30.581324\n",
       "California              29.586659\n",
       "Utah                    28.720310\n",
       "Nevada                  26.398301\n",
       "Illinois                23.627838\n",
       "Texas                   23.352308\n",
       "Arizona                 23.341262\n",
       "South Carolina          21.453766\n",
       "Connecticut             21.208243\n",
       "Florida                 19.693971\n",
       "Delaware                18.875572\n",
       "Minnesota               18.838655\n",
       "Washington              17.800878\n",
       "Kansas                  17.669622\n",
       "Arkansas                17.581549\n",
       "Ohio                    17.100934\n",
       "Kentucky                17.014960\n",
       "Alabama                 16.893732\n",
       "Virginia                16.223821\n",
       "Wisconsin               16.204787\n",
       "Pennsylvania            15.967869\n",
       "Vermont                 15.867944\n",
       "Idaho                   15.676073\n",
       "New Mexico              15.553874\n",
       "Louisiana               14.147639\n",
       "Indiana                 13.744013\n",
       "Mississippi             13.506474\n",
       "North Dakota            13.449119\n",
       "Maine                   13.165754\n",
       "Oregon                  12.722700\n",
       "Colorado                12.238592\n",
       "Oklahoma                12.223541\n",
       "Tennessee               12.194337\n",
       "Missouri                11.987511\n",
       "New Hampshire           11.548768\n",
       "Wyoming                 11.442718\n",
       "Montana                 10.504297\n",
       "West Virginia           10.044498\n",
       "South Dakota             9.468344\n",
       "Alaska                   9.309867\n",
       "District of Columbia          NaN\n",
       "Guam                          NaN\n",
       "Mariana Islands               NaN\n",
       "Puerto Rico                   NaN\n",
       "Virgin Islands                NaN\n",
       "Name: sales_per_capita, dtype: float64"
      ]
     },
     "execution_count": 31,
     "metadata": {},
     "output_type": "execute_result"
    }
   ],
   "source": [
    "sampled_df.sales_per_capita.sort_values(ascending=False)"
   ]
  },
  {
   "cell_type": "markdown",
   "metadata": {},
   "source": [
    "Looks like there were a few states in the FBI data that weren't in the us_census dataframe, and Hawaii had 0 sales for the year 2016, so let's go ahead and trim those off before plotting our chart"
   ]
  },
  {
   "cell_type": "code",
   "execution_count": 32,
   "metadata": {},
   "outputs": [
    {
     "data": {
      "text/plain": [
       "<matplotlib.axes._subplots.AxesSubplot at 0x1574e237908>"
      ]
     },
     "execution_count": 32,
     "metadata": {},
     "output_type": "execute_result"
    },
    {
     "data": {
      "image/png": "[encoded data removed]",
      "text/plain": [
       "<matplotlib.figure.Figure at 0x1574e237048>"
      ]
     },
     "metadata": {},
     "output_type": "display_data"
    }
   ],
   "source": [
    "# dropping the states with NaNs\n",
    "sampled_df.dropna(inplace=True)\n",
    "\n",
    "# drop Hawaii from the series\n",
    "sampled_df.drop('Hawaii', inplace=True)\n",
    "\n",
    "# plot the chart based on the sales_per_capita column\n",
    "sampled_df.sales_per_capita.sort_values(ascending=False).plot(kind='bar',\n",
    "                                                         figsize=(15,5),\n",
    "                                                         title='Firearm sales per capita by state for the year 2016')"
   ]
  },
  {
   "cell_type": "markdown",
   "metadata": {},
   "source": [
    "#### Statistical Analysis\n",
    "Let's convert the raw values for the total sales and populations into standardized values and plot them both"
   ]
  },
  {
   "cell_type": "code",
   "execution_count": 33,
   "metadata": {
    "scrolled": false
   },
   "outputs": [
    {
     "data": {
      "text/plain": [
       "<matplotlib.axes._subplots.AxesSubplot at 0x1574e31e5c0>"
      ]
     },
     "execution_count": 33,
     "metadata": {},
     "output_type": "execute_result"
    },
    {
     "data": {
      "image/png": "[encoded data removed]",
      "text/plain": [
       "<matplotlib.figure.Figure at 0x1574e11c4e0>"
      ]
     },
     "metadata": {},
     "output_type": "display_data"
    }
   ],
   "source": [
    "# Standardize the data\n",
    "sampled_df = (sampled_df - sampled_df.mean()) / sampled_df.std()\n",
    "\n",
    "# Plot the now standardized total sales by state\n",
    "sampled_df.sales_per_capita.sort_values(ascending=False).plot(kind='bar',\n",
    "                                                    figsize=(15,5),\n",
    "                                                    title='Standardized firearm sales per capita for the year 2016 by state',\n",
    "                                                    sort_columns=True)"
   ]
  },
  {
   "cell_type": "code",
   "execution_count": 34,
   "metadata": {
    "scrolled": false
   },
   "outputs": [
    {
     "data": {
      "text/plain": [
       "<matplotlib.axes._subplots.AxesSubplot at 0x1574dc11da0>"
      ]
     },
     "execution_count": 34,
     "metadata": {},
     "output_type": "execute_result"
    },
    {
     "data": {
      "image/png": "[encoded data removed]",
      "text/plain": [
       "<matplotlib.figure.Figure at 0x1574dd157b8>"
      ]
     },
     "metadata": {},
     "output_type": "display_data"
    }
   ],
   "source": [
    "sampled_df.population.sort_values(ascending=False).plot(kind='bar',\n",
    "                                               figsize=(15,5))"
   ]
  },
  {
   "cell_type": "code",
   "execution_count": 35,
   "metadata": {
    "scrolled": false
   },
   "outputs": [
    {
     "data": {
      "text/plain": [
       "<matplotlib.axes._subplots.AxesSubplot at 0x1574e40c198>"
      ]
     },
     "execution_count": 35,
     "metadata": {},
     "output_type": "execute_result"
    },
    {
     "data": {
      "image/png": "[encoded data removed]",
      "text/plain": [
       "<matplotlib.figure.Figure at 0x1574dea6cc0>"
      ]
     },
     "metadata": {},
     "output_type": "display_data"
    }
   ],
   "source": [
    "# Group the two charts together for easier comparison\n",
    "pd.concat([sampled_df.population, sampled_df.sales_per_capita], axis=1).plot(kind='bar',\n",
    "                                                                        figsize=(15,5),\n",
    "                                                                        title='Standardized Firearms Sales Compared to Standardized State Population')"
   ]
  },
  {
   "cell_type": "markdown",
   "metadata": {},
   "source": [
    "<a id='conclusions'></a>\n",
    "## Conclusions\n",
    "\n",
    "##### What is the overall trend of gun purchases at a national level over time?\n",
    "It appears from the data that there is a clear trend of more firearms being sold each year than the previous. Without data to cross-analyze with we're unable to draw any correlations.  One conclusion that seems safe to assume is that data was not collected for \"other\" firearm sales prior to 2007.\n",
    "\n",
    "\n",
    "##### Which state has the highest firearm sales per capita for the given time period (2016)?\n",
    "It looks like in the year 2016 the states with relatively low populations had a higher per capita value for firearm purchases. Without additional information it isn't possible to draw inferences, but I assume a possible reason could be that states with lower populations tend to be more rural, and where hunting is a cultural activity."
   ]
  }
 ],
 "metadata": {
  "kernelspec": {
   "display_name": "Python 3",
   "language": "python",
   "name": "python3"
  },
  "language_info": {
   "codemirror_mode": {
    "name": "ipython",
    "version": 3
   },
   "file_extension": ".py",
   "mimetype": "text/x-python",
   "name": "python",
   "nbconvert_exporter": "python",
   "pygments_lexer": "ipython3",
   "version": "3.6.4"
  }
 },
 "nbformat": 4,
 "nbformat_minor": 2
}
